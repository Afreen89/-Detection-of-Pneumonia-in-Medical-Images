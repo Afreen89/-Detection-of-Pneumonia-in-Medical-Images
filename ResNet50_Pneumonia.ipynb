{
  "cells": [
    {
      "cell_type": "markdown",
      "metadata": {
        "id": "view-in-github",
        "colab_type": "text"
      },
      "source": [
        "<a href=\"https://colab.research.google.com/github/Afreen89/-Detection-of-Pneumonia-in-Medical-Images/blob/main/ResNet50_Pneumonia.ipynb\" target=\"_parent\"><img src=\"https://colab.research.google.com/assets/colab-badge.svg\" alt=\"Open In Colab\"/></a>"
      ]
    },
    {
      "cell_type": "code",
      "execution_count": 2,
      "metadata": {
        "id": "55aa65cd"
      },
      "outputs": [],
      "source": [
        "import keras,os\n",
        "from keras.models import Sequential\n",
        "from keras.layers import Dense, Conv2D, MaxPool2D , Flatten\n",
        "from keras.preprocessing.image import ImageDataGenerator\n",
        "import numpy as np\n",
        "from tqdm import tqdm\n",
        "import random\n",
        "import cv2"
      ],
      "id": "55aa65cd"
    },
    {
      "cell_type": "code",
      "execution_count": 3,
      "metadata": {
        "colab": {
          "base_uri": "https://localhost:8080/"
        },
        "id": "pPIhPKY7MLzC",
        "outputId": "b339a559-9c55-4edc-bcb0-71070fe584bc"
      },
      "outputs": [
        {
          "output_type": "stream",
          "name": "stdout",
          "text": [
            "Mounted at /content/drive\n"
          ]
        }
      ],
      "source": [
        "from google.colab import drive\n",
        "drive.mount('/content/drive')"
      ],
      "id": "pPIhPKY7MLzC"
    },
    {
      "cell_type": "code",
      "source": [
        "! pip install tensorflow \n",
        "import tensorflow as tf"
      ],
      "metadata": {
        "id": "N1jAhetMjzly",
        "colab": {
          "base_uri": "https://localhost:8080/"
        },
        "outputId": "0926bfeb-7318-4fda-c805-aab2cb11d501"
      },
      "id": "N1jAhetMjzly",
      "execution_count": 4,
      "outputs": [
        {
          "output_type": "stream",
          "name": "stdout",
          "text": [
            "Looking in indexes: https://pypi.org/simple, https://us-python.pkg.dev/colab-wheels/public/simple/\n",
            "Requirement already satisfied: tensorflow in /usr/local/lib/python3.8/dist-packages (2.9.2)\n",
            "Requirement already satisfied: typing-extensions>=3.6.6 in /usr/local/lib/python3.8/dist-packages (from tensorflow) (4.4.0)\n",
            "Requirement already satisfied: google-pasta>=0.1.1 in /usr/local/lib/python3.8/dist-packages (from tensorflow) (0.2.0)\n",
            "Requirement already satisfied: six>=1.12.0 in /usr/local/lib/python3.8/dist-packages (from tensorflow) (1.15.0)\n",
            "Requirement already satisfied: packaging in /usr/local/lib/python3.8/dist-packages (from tensorflow) (23.0)\n",
            "Requirement already satisfied: libclang>=13.0.0 in /usr/local/lib/python3.8/dist-packages (from tensorflow) (15.0.6.1)\n",
            "Requirement already satisfied: keras-preprocessing>=1.1.1 in /usr/local/lib/python3.8/dist-packages (from tensorflow) (1.1.2)\n",
            "Requirement already satisfied: tensorflow-estimator<2.10.0,>=2.9.0rc0 in /usr/local/lib/python3.8/dist-packages (from tensorflow) (2.9.0)\n",
            "Requirement already satisfied: astunparse>=1.6.0 in /usr/local/lib/python3.8/dist-packages (from tensorflow) (1.6.3)\n",
            "Requirement already satisfied: flatbuffers<2,>=1.12 in /usr/local/lib/python3.8/dist-packages (from tensorflow) (1.12)\n",
            "Requirement already satisfied: tensorboard<2.10,>=2.9 in /usr/local/lib/python3.8/dist-packages (from tensorflow) (2.9.1)\n",
            "Requirement already satisfied: h5py>=2.9.0 in /usr/local/lib/python3.8/dist-packages (from tensorflow) (3.1.0)\n",
            "Requirement already satisfied: wrapt>=1.11.0 in /usr/local/lib/python3.8/dist-packages (from tensorflow) (1.14.1)\n",
            "Requirement already satisfied: grpcio<2.0,>=1.24.3 in /usr/local/lib/python3.8/dist-packages (from tensorflow) (1.51.1)\n",
            "Requirement already satisfied: protobuf<3.20,>=3.9.2 in /usr/local/lib/python3.8/dist-packages (from tensorflow) (3.19.6)\n",
            "Requirement already satisfied: gast<=0.4.0,>=0.2.1 in /usr/local/lib/python3.8/dist-packages (from tensorflow) (0.4.0)\n",
            "Requirement already satisfied: numpy>=1.20 in /usr/local/lib/python3.8/dist-packages (from tensorflow) (1.21.6)\n",
            "Requirement already satisfied: keras<2.10.0,>=2.9.0rc0 in /usr/local/lib/python3.8/dist-packages (from tensorflow) (2.9.0)\n",
            "Requirement already satisfied: termcolor>=1.1.0 in /usr/local/lib/python3.8/dist-packages (from tensorflow) (2.2.0)\n",
            "Requirement already satisfied: opt-einsum>=2.3.2 in /usr/local/lib/python3.8/dist-packages (from tensorflow) (3.3.0)\n",
            "Requirement already satisfied: absl-py>=1.0.0 in /usr/local/lib/python3.8/dist-packages (from tensorflow) (1.4.0)\n",
            "Requirement already satisfied: setuptools in /usr/local/lib/python3.8/dist-packages (from tensorflow) (57.4.0)\n",
            "Requirement already satisfied: tensorflow-io-gcs-filesystem>=0.23.1 in /usr/local/lib/python3.8/dist-packages (from tensorflow) (0.30.0)\n",
            "Requirement already satisfied: wheel<1.0,>=0.23.0 in /usr/local/lib/python3.8/dist-packages (from astunparse>=1.6.0->tensorflow) (0.38.4)\n",
            "Requirement already satisfied: tensorboard-plugin-wit>=1.6.0 in /usr/local/lib/python3.8/dist-packages (from tensorboard<2.10,>=2.9->tensorflow) (1.8.1)\n",
            "Requirement already satisfied: werkzeug>=1.0.1 in /usr/local/lib/python3.8/dist-packages (from tensorboard<2.10,>=2.9->tensorflow) (1.0.1)\n",
            "Requirement already satisfied: requests<3,>=2.21.0 in /usr/local/lib/python3.8/dist-packages (from tensorboard<2.10,>=2.9->tensorflow) (2.25.1)\n",
            "Requirement already satisfied: markdown>=2.6.8 in /usr/local/lib/python3.8/dist-packages (from tensorboard<2.10,>=2.9->tensorflow) (3.4.1)\n",
            "Requirement already satisfied: tensorboard-data-server<0.7.0,>=0.6.0 in /usr/local/lib/python3.8/dist-packages (from tensorboard<2.10,>=2.9->tensorflow) (0.6.1)\n",
            "Requirement already satisfied: google-auth-oauthlib<0.5,>=0.4.1 in /usr/local/lib/python3.8/dist-packages (from tensorboard<2.10,>=2.9->tensorflow) (0.4.6)\n",
            "Requirement already satisfied: google-auth<3,>=1.6.3 in /usr/local/lib/python3.8/dist-packages (from tensorboard<2.10,>=2.9->tensorflow) (2.16.0)\n",
            "Requirement already satisfied: pyasn1-modules>=0.2.1 in /usr/local/lib/python3.8/dist-packages (from google-auth<3,>=1.6.3->tensorboard<2.10,>=2.9->tensorflow) (0.2.8)\n",
            "Requirement already satisfied: rsa<5,>=3.1.4 in /usr/local/lib/python3.8/dist-packages (from google-auth<3,>=1.6.3->tensorboard<2.10,>=2.9->tensorflow) (4.9)\n",
            "Requirement already satisfied: cachetools<6.0,>=2.0.0 in /usr/local/lib/python3.8/dist-packages (from google-auth<3,>=1.6.3->tensorboard<2.10,>=2.9->tensorflow) (5.3.0)\n",
            "Requirement already satisfied: requests-oauthlib>=0.7.0 in /usr/local/lib/python3.8/dist-packages (from google-auth-oauthlib<0.5,>=0.4.1->tensorboard<2.10,>=2.9->tensorflow) (1.3.1)\n",
            "Requirement already satisfied: importlib-metadata>=4.4 in /usr/local/lib/python3.8/dist-packages (from markdown>=2.6.8->tensorboard<2.10,>=2.9->tensorflow) (6.0.0)\n",
            "Requirement already satisfied: urllib3<1.27,>=1.21.1 in /usr/local/lib/python3.8/dist-packages (from requests<3,>=2.21.0->tensorboard<2.10,>=2.9->tensorflow) (1.24.3)\n",
            "Requirement already satisfied: idna<3,>=2.5 in /usr/local/lib/python3.8/dist-packages (from requests<3,>=2.21.0->tensorboard<2.10,>=2.9->tensorflow) (2.10)\n",
            "Requirement already satisfied: certifi>=2017.4.17 in /usr/local/lib/python3.8/dist-packages (from requests<3,>=2.21.0->tensorboard<2.10,>=2.9->tensorflow) (2022.12.7)\n",
            "Requirement already satisfied: chardet<5,>=3.0.2 in /usr/local/lib/python3.8/dist-packages (from requests<3,>=2.21.0->tensorboard<2.10,>=2.9->tensorflow) (4.0.0)\n",
            "Requirement already satisfied: zipp>=0.5 in /usr/local/lib/python3.8/dist-packages (from importlib-metadata>=4.4->markdown>=2.6.8->tensorboard<2.10,>=2.9->tensorflow) (3.12.0)\n",
            "Requirement already satisfied: pyasn1<0.5.0,>=0.4.6 in /usr/local/lib/python3.8/dist-packages (from pyasn1-modules>=0.2.1->google-auth<3,>=1.6.3->tensorboard<2.10,>=2.9->tensorflow) (0.4.8)\n",
            "Requirement already satisfied: oauthlib>=3.0.0 in /usr/local/lib/python3.8/dist-packages (from requests-oauthlib>=0.7.0->google-auth-oauthlib<0.5,>=0.4.1->tensorboard<2.10,>=2.9->tensorflow) (3.2.2)\n"
          ]
        }
      ]
    },
    {
      "cell_type": "code",
      "execution_count": null,
      "metadata": {
        "id": "x-MTQ32bM2NX"
      },
      "outputs": [],
      "source": [
        "'''\n",
        "\n",
        "def get_data(folder):\n",
        "    X = []\n",
        "    y = []\n",
        "    for folderName in os.listdir(folder):\n",
        "        if not folderName.startswith('.'):\n",
        "            if folderName in ['no_pneumonia']:\n",
        "                label = 0\n",
        "            elif folderName in ['pneumonia']:\n",
        "                label = 1\n",
        "            else:\n",
        "                label = 2\n",
        "            for image_filename in tqdm(os.listdir(folder + folderName)):\n",
        "                img_file = cv2.imread(folder + folderName + '/' + image_filename)\n",
        "                if img_file is not None:\n",
        "                    img_file = skimage.transform.resize(img_file, (150, 150, 3))\n",
        "                    #img_file = scipy.misc.imresize(arr=img_file, size=(150, 150, 3))\n",
        "                    img_arr = np.asarray(img_file)\n",
        "                    X.append(img_arr)\n",
        "                    y.append(label)\n",
        "    X = np.asarray(X)\n",
        "    y = np.asarray(y)\n",
        "    return X,y\n",
        "\n",
        "'''"
      ],
      "id": "x-MTQ32bM2NX"
    },
    {
      "cell_type": "code",
      "execution_count": 5,
      "metadata": {
        "id": "gOFRYMNcSrlr"
      },
      "outputs": [],
      "source": [
        "CATEGORIES = ['no_pneumonia' , 'pneumonia']"
      ],
      "id": "gOFRYMNcSrlr"
    },
    {
      "cell_type": "code",
      "execution_count": 6,
      "metadata": {
        "id": "dB8dasA0SfbE"
      },
      "outputs": [],
      "source": [
        "train_dir = r'/content/drive/MyDrive/ML/Pneumonia/data-task1/train'\n",
        "val_dir =  r'/content/drive/MyDrive/ML/Pneumonia/data-task1/val'\n",
        "test_dir =  r'/content/drive/MyDrive/ML/Pneumonia/data-task1/test'\n",
        "def pre_pro(DIRECTORY):\n",
        "\n",
        "  data = []\n",
        "  #pre-processing\n",
        "  for category in CATEGORIES:\n",
        "        folder = os.path.join(DIRECTORY, category)\n",
        "        label = CATEGORIES.index(category)\n",
        "        for img in tqdm(os.listdir(folder)):\n",
        "                img_path = os.path.join(folder, img)\n",
        "                #print(img_path)\n",
        "                #img_arr = cv2.imread(img_path)\n",
        "                #img_arr = cv2.imread(img_path, cv2.IMREAD_GRAYSCALE)\n",
        "                img_arr = cv2.imread(img_path)\n",
        "                img_arr = cv2.resize(img_arr, (224, 224))\n",
        "                data.append([img_arr, label])\n",
        "           \n",
        "  len(data)\n",
        "\n",
        "  random.shuffle(data)\n",
        "\n",
        "  X = []\n",
        "  Y = []\n",
        "    \n",
        "  for features, labels in data:\n",
        "   X.append(features)\n",
        "   Y.append(labels)\n",
        "    \n",
        "\n",
        "  #X = np.array(X).reshape(-1, IMG_SIZE, IMG_SIZE, 1)\n",
        "  X = np.array(X)\n",
        "  y = np.array(Y)\n",
        "  return X, y\n",
        " \n"
      ],
      "id": "dB8dasA0SfbE"
    },
    {
      "cell_type": "code",
      "execution_count": 7,
      "metadata": {
        "colab": {
          "base_uri": "https://localhost:8080/"
        },
        "collapsed": true,
        "id": "eTC5Vo3AOjvT",
        "outputId": "dd1200be-c030-438a-e144-28a9812f8e61"
      },
      "outputs": [
        {
          "output_type": "stream",
          "name": "stderr",
          "text": [
            "100%|██████████| 2358/2358 [02:21<00:00, 16.63it/s]\n",
            "100%|██████████| 642/642 [00:20<00:00, 31.61it/s]\n",
            "100%|██████████| 395/395 [00:12<00:00, 32.22it/s]\n",
            "100%|██████████| 105/105 [00:03<00:00, 29.66it/s]\n",
            "100%|██████████| 390/390 [00:11<00:00, 33.54it/s]\n",
            "100%|██████████| 110/110 [00:03<00:00, 32.75it/s]\n"
          ]
        }
      ],
      "source": [
        "X_train, y_train = pre_pro(r'/content/drive/MyDrive/ML/Pneumonia/data-task1/train')\n",
        "X_test, y_test= pre_pro(r'/content/drive/MyDrive/ML/Pneumonia/data-task1/test')\n",
        "X_val, y_val= pre_pro(r'/content/drive/MyDrive/ML/Pneumonia/data-task1/val')\n"
      ],
      "id": "eTC5Vo3AOjvT"
    },
    {
      "cell_type": "code",
      "execution_count": 8,
      "metadata": {
        "colab": {
          "base_uri": "https://localhost:8080/"
        },
        "id": "7dYCntlLt29A",
        "outputId": "b64300ed-854a-4fe1-9d6f-a3af7eb66bef"
      },
      "outputs": [
        {
          "output_type": "stream",
          "name": "stdout",
          "text": [
            "(3000, 224, 224, 3)\n",
            "(500, 224, 224, 3)\n",
            "(500, 224, 224, 3)\n"
          ]
        }
      ],
      "source": [
        "print(X_train.shape)\n",
        "print(X_test.shape)\n",
        "print(X_val.shape)"
      ],
      "id": "7dYCntlLt29A"
    },
    {
      "cell_type": "code",
      "execution_count": null,
      "metadata": {
        "id": "HcF_4YFkcFAb"
      },
      "outputs": [],
      "source": [
        "'''\n",
        "from keras.utils.np_utils import to_categorical\n",
        "y_train = to_categorical(y_train, num_classes = 2)\n",
        "y_test = to_categorical(y_test, num_classes = 2)\n",
        "y_val = to_categorical(y_val, num_classes = 2)"
      ],
      "id": "HcF_4YFkcFAb"
    },
    {
      "cell_type": "code",
      "execution_count": 9,
      "metadata": {
        "colab": {
          "base_uri": "https://localhost:8080/"
        },
        "id": "j10EMys-Uqxh",
        "outputId": "8df3ce6b-441d-4a33-fcc1-b58d3d33e024"
      },
      "outputs": [
        {
          "output_type": "stream",
          "name": "stdout",
          "text": [
            "(3000,)\n",
            "(500,)\n",
            "(500,)\n"
          ]
        }
      ],
      "source": [
        "print(y_train.shape)\n",
        "print(y_test.shape)\n",
        "print(y_val.shape)"
      ],
      "id": "j10EMys-Uqxh"
    },
    {
      "cell_type": "code",
      "execution_count": 10,
      "metadata": {
        "id": "No_fYktrU5W3"
      },
      "outputs": [],
      "source": [
        "# dont run,, pickle saved\n",
        "import pickle\n",
        "pickle.dump(X_train, open(r'/content/drive/MyDrive/ML/Pneumonia/data-task1/X_train.pkl', 'wb'))\n",
        "pickle.dump(y_train, open(r'/content/drive/MyDrive/ML/Pneumonia/data-task1/y_train.pkl', 'wb'))\n",
        "pickle.dump(X_test, open(r'/content/drive/MyDrive/ML/Pneumonia/data-task1/X_test.pkl', 'wb'))\n",
        "pickle.dump(y_test, open(r'/content/drive/MyDrive/ML/Pneumonia/data-task1/y_test.pkl', 'wb'))\n",
        "pickle.dump(X_val, open(r'/content/drive/MyDrive/ML/Pneumonia/data-task1/X_val.pkl', 'wb'))\n",
        "pickle.dump(y_val, open(r'/content/drive/MyDrive/ML/Pneumonia/data-task1/y_val.pkl', 'wb'))\n",
        "\n"
      ],
      "id": "No_fYktrU5W3"
    },
    {
      "cell_type": "code",
      "execution_count": 11,
      "metadata": {
        "id": "-mM5ZvN-VHc7"
      },
      "outputs": [],
      "source": [
        "import pickle\n",
        "\n",
        "X_train = pickle.load(open(r'/content/drive/MyDrive/ML/Pneumonia/data-task1/X_train.pkl','rb'))\n",
        "y_train = pickle.load(open(r'/content/drive/MyDrive/ML/Pneumonia/data-task1/y_train.pkl','rb'))\n",
        "X_test = pickle.load(open(r'/content/drive/MyDrive/ML/Pneumonia/data-task1/X_test.pkl','rb'))\n",
        "y_test = pickle.load(open(r'/content/drive/MyDrive/ML/Pneumonia/data-task1/y_test.pkl','rb'))\n",
        "X_val = pickle.load(open(r'/content/drive/MyDrive/ML/Pneumonia/data-task1/X_val.pkl','rb'))\n",
        "y_val = pickle.load(open(r'/content/drive/MyDrive/ML/Pneumonia/data-task1/y_val.pkl','rb'))\n"
      ],
      "id": "-mM5ZvN-VHc7"
    },
    {
      "cell_type": "code",
      "execution_count": 12,
      "metadata": {
        "id": "G8TE9N2POAaB"
      },
      "outputs": [],
      "source": [
        "from keras.preprocessing.image import ImageDataGenerator\n",
        "train_datagen = ImageDataGenerator(\n",
        "    rescale=1. / 255,\n",
        "    shear_range=0.2,\n",
        "    zoom_range=0.2,\n",
        "    horizontal_flip=True)\n",
        "\n",
        "test_datagen = ImageDataGenerator(rescale=1. / 255)\n",
        "val_datagen = ImageDataGenerator(rescale=1. / 255)\n"
      ],
      "id": "G8TE9N2POAaB"
    },
    {
      "cell_type": "code",
      "execution_count": 13,
      "metadata": {
        "id": "E8sJrVmGODVi"
      },
      "outputs": [],
      "source": [
        "train_datagen.fit(X_train)\n",
        "val_datagen.fit(X_val)\n",
        "test_datagen.fit(X_test)"
      ],
      "id": "E8sJrVmGODVi"
    },
    {
      "cell_type": "code",
      "execution_count": 14,
      "metadata": {
        "id": "ul4WcwQj67W7"
      },
      "outputs": [],
      "source": [
        "weight_for_0 = 0.35\n",
        "weight_for_1 = 0.5\n",
        "\n",
        "class_weight = {0:weight_for_0, 1: weight_for_1}\n"
      ],
      "id": "ul4WcwQj67W7"
    },
    {
      "cell_type": "code",
      "execution_count": 15,
      "metadata": {
        "id": "XtXr9RXd_QXh"
      },
      "outputs": [],
      "source": [
        "import seaborn as sns\n",
        "import tensorflow as tf"
      ],
      "id": "XtXr9RXd_QXh"
    },
    {
      "cell_type": "code",
      "execution_count": 16,
      "metadata": {
        "id": "SSz5k68iNhiW",
        "colab": {
          "base_uri": "https://localhost:8080/"
        },
        "outputId": "72423006-35ac-4ac0-c7f7-0e63f202f953"
      },
      "outputs": [
        {
          "output_type": "stream",
          "name": "stdout",
          "text": [
            "Downloading data from https://storage.googleapis.com/tensorflow/keras-applications/resnet/resnet50_weights_tf_dim_ordering_tf_kernels_notop.h5\n",
            "94765736/94765736 [==============================] - 3s 0us/step\n"
          ]
        }
      ],
      "source": [
        "from tensorflow.keras.applications.resnet50 import ResNet50\n",
        "from tensorflow.keras.layers import Dense, Activation, Conv2D, MaxPooling2D, Flatten, Dropout, BatchNormalization\n",
        "from keras.models import load_model\n",
        "from keras.models import Model\n",
        "from tensorflow.keras import regularizers\n",
        "ResNet50 = ResNet50(input_shape=[224,224,3], weights='imagenet', include_top=False)\n",
        "for layer in ResNet50.layers:\n",
        "    layer.trainable = False\n",
        "\n",
        "X = ResNet50.output\n",
        "X = BatchNormalization()(X)\n",
        "X = Flatten()(X) \n",
        "\n",
        "X = Dense(512, activation='relu')(X) \n",
        "X = Dropout(0.5)(X)\n",
        "#output = BatchNormalization()(X)\n",
        "\n",
        "X = Dense(256, activation='relu')(X) \n",
        "X = Dropout(0.5)(X)\n",
        "#output = BatchNormalization()(X)\n",
        "\n",
        "X = Dense(128, activation='relu')(X) \n",
        "X = Dropout(0.5)(X)\n",
        "#output = BatchNormalization()(X)\n",
        "\n",
        "X = Dense(64, activation='relu')(X) \n",
        "X = Dropout(0.5)(X)\n",
        "#output = BatchNormalization()(X)\n",
        "\n",
        "output = Dense(2, activation='softmax')(X) \n",
        "model = Model(inputs=ResNet50.input, outputs=output)"
      ],
      "id": "SSz5k68iNhiW"
    },
    {
      "cell_type": "code",
      "execution_count": 17,
      "metadata": {
        "colab": {
          "base_uri": "https://localhost:8080/"
        },
        "id": "f772f449",
        "outputId": "f0179b38-fe8c-4540-dfac-8eb798efe46c"
      },
      "outputs": [
        {
          "output_type": "stream",
          "name": "stderr",
          "text": [
            "/usr/local/lib/python3.8/dist-packages/keras/optimizers/optimizer_v2/adam.py:110: UserWarning: The `lr` argument is deprecated, use `learning_rate` instead.\n",
            "  super(Adam, self).__init__(name, **kwargs)\n"
          ]
        }
      ],
      "source": [
        "from tensorflow.keras.optimizers import Adam\n",
        "opt = Adam(lr=0.03)\n",
        "\n",
        "model.compile(optimizer='sgd', \n",
        "              loss=keras.losses.SparseCategoricalCrossentropy(), metrics=['accuracy'])"
      ],
      "id": "f772f449"
    },
    {
      "cell_type": "code",
      "execution_count": 18,
      "metadata": {
        "id": "955c81be",
        "colab": {
          "base_uri": "https://localhost:8080/"
        },
        "outputId": "eb5a8ae2-5a0d-46cb-c81c-d5ce39564ed0"
      },
      "outputs": [
        {
          "output_type": "stream",
          "name": "stdout",
          "text": [
            "Model: \"model\"\n",
            "__________________________________________________________________________________________________\n",
            " Layer (type)                   Output Shape         Param #     Connected to                     \n",
            "==================================================================================================\n",
            " input_1 (InputLayer)           [(None, 224, 224, 3  0           []                               \n",
            "                                )]                                                                \n",
            "                                                                                                  \n",
            " conv1_pad (ZeroPadding2D)      (None, 230, 230, 3)  0           ['input_1[0][0]']                \n",
            "                                                                                                  \n",
            " conv1_conv (Conv2D)            (None, 112, 112, 64  9472        ['conv1_pad[0][0]']              \n",
            "                                )                                                                 \n",
            "                                                                                                  \n",
            " conv1_bn (BatchNormalization)  (None, 112, 112, 64  256         ['conv1_conv[0][0]']             \n",
            "                                )                                                                 \n",
            "                                                                                                  \n",
            " conv1_relu (Activation)        (None, 112, 112, 64  0           ['conv1_bn[0][0]']               \n",
            "                                )                                                                 \n",
            "                                                                                                  \n",
            " pool1_pad (ZeroPadding2D)      (None, 114, 114, 64  0           ['conv1_relu[0][0]']             \n",
            "                                )                                                                 \n",
            "                                                                                                  \n",
            " pool1_pool (MaxPooling2D)      (None, 56, 56, 64)   0           ['pool1_pad[0][0]']              \n",
            "                                                                                                  \n",
            " conv2_block1_1_conv (Conv2D)   (None, 56, 56, 64)   4160        ['pool1_pool[0][0]']             \n",
            "                                                                                                  \n",
            " conv2_block1_1_bn (BatchNormal  (None, 56, 56, 64)  256         ['conv2_block1_1_conv[0][0]']    \n",
            " ization)                                                                                         \n",
            "                                                                                                  \n",
            " conv2_block1_1_relu (Activatio  (None, 56, 56, 64)  0           ['conv2_block1_1_bn[0][0]']      \n",
            " n)                                                                                               \n",
            "                                                                                                  \n",
            " conv2_block1_2_conv (Conv2D)   (None, 56, 56, 64)   36928       ['conv2_block1_1_relu[0][0]']    \n",
            "                                                                                                  \n",
            " conv2_block1_2_bn (BatchNormal  (None, 56, 56, 64)  256         ['conv2_block1_2_conv[0][0]']    \n",
            " ization)                                                                                         \n",
            "                                                                                                  \n",
            " conv2_block1_2_relu (Activatio  (None, 56, 56, 64)  0           ['conv2_block1_2_bn[0][0]']      \n",
            " n)                                                                                               \n",
            "                                                                                                  \n",
            " conv2_block1_0_conv (Conv2D)   (None, 56, 56, 256)  16640       ['pool1_pool[0][0]']             \n",
            "                                                                                                  \n",
            " conv2_block1_3_conv (Conv2D)   (None, 56, 56, 256)  16640       ['conv2_block1_2_relu[0][0]']    \n",
            "                                                                                                  \n",
            " conv2_block1_0_bn (BatchNormal  (None, 56, 56, 256)  1024       ['conv2_block1_0_conv[0][0]']    \n",
            " ization)                                                                                         \n",
            "                                                                                                  \n",
            " conv2_block1_3_bn (BatchNormal  (None, 56, 56, 256)  1024       ['conv2_block1_3_conv[0][0]']    \n",
            " ization)                                                                                         \n",
            "                                                                                                  \n",
            " conv2_block1_add (Add)         (None, 56, 56, 256)  0           ['conv2_block1_0_bn[0][0]',      \n",
            "                                                                  'conv2_block1_3_bn[0][0]']      \n",
            "                                                                                                  \n",
            " conv2_block1_out (Activation)  (None, 56, 56, 256)  0           ['conv2_block1_add[0][0]']       \n",
            "                                                                                                  \n",
            " conv2_block2_1_conv (Conv2D)   (None, 56, 56, 64)   16448       ['conv2_block1_out[0][0]']       \n",
            "                                                                                                  \n",
            " conv2_block2_1_bn (BatchNormal  (None, 56, 56, 64)  256         ['conv2_block2_1_conv[0][0]']    \n",
            " ization)                                                                                         \n",
            "                                                                                                  \n",
            " conv2_block2_1_relu (Activatio  (None, 56, 56, 64)  0           ['conv2_block2_1_bn[0][0]']      \n",
            " n)                                                                                               \n",
            "                                                                                                  \n",
            " conv2_block2_2_conv (Conv2D)   (None, 56, 56, 64)   36928       ['conv2_block2_1_relu[0][0]']    \n",
            "                                                                                                  \n",
            " conv2_block2_2_bn (BatchNormal  (None, 56, 56, 64)  256         ['conv2_block2_2_conv[0][0]']    \n",
            " ization)                                                                                         \n",
            "                                                                                                  \n",
            " conv2_block2_2_relu (Activatio  (None, 56, 56, 64)  0           ['conv2_block2_2_bn[0][0]']      \n",
            " n)                                                                                               \n",
            "                                                                                                  \n",
            " conv2_block2_3_conv (Conv2D)   (None, 56, 56, 256)  16640       ['conv2_block2_2_relu[0][0]']    \n",
            "                                                                                                  \n",
            " conv2_block2_3_bn (BatchNormal  (None, 56, 56, 256)  1024       ['conv2_block2_3_conv[0][0]']    \n",
            " ization)                                                                                         \n",
            "                                                                                                  \n",
            " conv2_block2_add (Add)         (None, 56, 56, 256)  0           ['conv2_block1_out[0][0]',       \n",
            "                                                                  'conv2_block2_3_bn[0][0]']      \n",
            "                                                                                                  \n",
            " conv2_block2_out (Activation)  (None, 56, 56, 256)  0           ['conv2_block2_add[0][0]']       \n",
            "                                                                                                  \n",
            " conv2_block3_1_conv (Conv2D)   (None, 56, 56, 64)   16448       ['conv2_block2_out[0][0]']       \n",
            "                                                                                                  \n",
            " conv2_block3_1_bn (BatchNormal  (None, 56, 56, 64)  256         ['conv2_block3_1_conv[0][0]']    \n",
            " ization)                                                                                         \n",
            "                                                                                                  \n",
            " conv2_block3_1_relu (Activatio  (None, 56, 56, 64)  0           ['conv2_block3_1_bn[0][0]']      \n",
            " n)                                                                                               \n",
            "                                                                                                  \n",
            " conv2_block3_2_conv (Conv2D)   (None, 56, 56, 64)   36928       ['conv2_block3_1_relu[0][0]']    \n",
            "                                                                                                  \n",
            " conv2_block3_2_bn (BatchNormal  (None, 56, 56, 64)  256         ['conv2_block3_2_conv[0][0]']    \n",
            " ization)                                                                                         \n",
            "                                                                                                  \n",
            " conv2_block3_2_relu (Activatio  (None, 56, 56, 64)  0           ['conv2_block3_2_bn[0][0]']      \n",
            " n)                                                                                               \n",
            "                                                                                                  \n",
            " conv2_block3_3_conv (Conv2D)   (None, 56, 56, 256)  16640       ['conv2_block3_2_relu[0][0]']    \n",
            "                                                                                                  \n",
            " conv2_block3_3_bn (BatchNormal  (None, 56, 56, 256)  1024       ['conv2_block3_3_conv[0][0]']    \n",
            " ization)                                                                                         \n",
            "                                                                                                  \n",
            " conv2_block3_add (Add)         (None, 56, 56, 256)  0           ['conv2_block2_out[0][0]',       \n",
            "                                                                  'conv2_block3_3_bn[0][0]']      \n",
            "                                                                                                  \n",
            " conv2_block3_out (Activation)  (None, 56, 56, 256)  0           ['conv2_block3_add[0][0]']       \n",
            "                                                                                                  \n",
            " conv3_block1_1_conv (Conv2D)   (None, 28, 28, 128)  32896       ['conv2_block3_out[0][0]']       \n",
            "                                                                                                  \n",
            " conv3_block1_1_bn (BatchNormal  (None, 28, 28, 128)  512        ['conv3_block1_1_conv[0][0]']    \n",
            " ization)                                                                                         \n",
            "                                                                                                  \n",
            " conv3_block1_1_relu (Activatio  (None, 28, 28, 128)  0          ['conv3_block1_1_bn[0][0]']      \n",
            " n)                                                                                               \n",
            "                                                                                                  \n",
            " conv3_block1_2_conv (Conv2D)   (None, 28, 28, 128)  147584      ['conv3_block1_1_relu[0][0]']    \n",
            "                                                                                                  \n",
            " conv3_block1_2_bn (BatchNormal  (None, 28, 28, 128)  512        ['conv3_block1_2_conv[0][0]']    \n",
            " ization)                                                                                         \n",
            "                                                                                                  \n",
            " conv3_block1_2_relu (Activatio  (None, 28, 28, 128)  0          ['conv3_block1_2_bn[0][0]']      \n",
            " n)                                                                                               \n",
            "                                                                                                  \n",
            " conv3_block1_0_conv (Conv2D)   (None, 28, 28, 512)  131584      ['conv2_block3_out[0][0]']       \n",
            "                                                                                                  \n",
            " conv3_block1_3_conv (Conv2D)   (None, 28, 28, 512)  66048       ['conv3_block1_2_relu[0][0]']    \n",
            "                                                                                                  \n",
            " conv3_block1_0_bn (BatchNormal  (None, 28, 28, 512)  2048       ['conv3_block1_0_conv[0][0]']    \n",
            " ization)                                                                                         \n",
            "                                                                                                  \n",
            " conv3_block1_3_bn (BatchNormal  (None, 28, 28, 512)  2048       ['conv3_block1_3_conv[0][0]']    \n",
            " ization)                                                                                         \n",
            "                                                                                                  \n",
            " conv3_block1_add (Add)         (None, 28, 28, 512)  0           ['conv3_block1_0_bn[0][0]',      \n",
            "                                                                  'conv3_block1_3_bn[0][0]']      \n",
            "                                                                                                  \n",
            " conv3_block1_out (Activation)  (None, 28, 28, 512)  0           ['conv3_block1_add[0][0]']       \n",
            "                                                                                                  \n",
            " conv3_block2_1_conv (Conv2D)   (None, 28, 28, 128)  65664       ['conv3_block1_out[0][0]']       \n",
            "                                                                                                  \n",
            " conv3_block2_1_bn (BatchNormal  (None, 28, 28, 128)  512        ['conv3_block2_1_conv[0][0]']    \n",
            " ization)                                                                                         \n",
            "                                                                                                  \n",
            " conv3_block2_1_relu (Activatio  (None, 28, 28, 128)  0          ['conv3_block2_1_bn[0][0]']      \n",
            " n)                                                                                               \n",
            "                                                                                                  \n",
            " conv3_block2_2_conv (Conv2D)   (None, 28, 28, 128)  147584      ['conv3_block2_1_relu[0][0]']    \n",
            "                                                                                                  \n",
            " conv3_block2_2_bn (BatchNormal  (None, 28, 28, 128)  512        ['conv3_block2_2_conv[0][0]']    \n",
            " ization)                                                                                         \n",
            "                                                                                                  \n",
            " conv3_block2_2_relu (Activatio  (None, 28, 28, 128)  0          ['conv3_block2_2_bn[0][0]']      \n",
            " n)                                                                                               \n",
            "                                                                                                  \n",
            " conv3_block2_3_conv (Conv2D)   (None, 28, 28, 512)  66048       ['conv3_block2_2_relu[0][0]']    \n",
            "                                                                                                  \n",
            " conv3_block2_3_bn (BatchNormal  (None, 28, 28, 512)  2048       ['conv3_block2_3_conv[0][0]']    \n",
            " ization)                                                                                         \n",
            "                                                                                                  \n",
            " conv3_block2_add (Add)         (None, 28, 28, 512)  0           ['conv3_block1_out[0][0]',       \n",
            "                                                                  'conv3_block2_3_bn[0][0]']      \n",
            "                                                                                                  \n",
            " conv3_block2_out (Activation)  (None, 28, 28, 512)  0           ['conv3_block2_add[0][0]']       \n",
            "                                                                                                  \n",
            " conv3_block3_1_conv (Conv2D)   (None, 28, 28, 128)  65664       ['conv3_block2_out[0][0]']       \n",
            "                                                                                                  \n",
            " conv3_block3_1_bn (BatchNormal  (None, 28, 28, 128)  512        ['conv3_block3_1_conv[0][0]']    \n",
            " ization)                                                                                         \n",
            "                                                                                                  \n",
            " conv3_block3_1_relu (Activatio  (None, 28, 28, 128)  0          ['conv3_block3_1_bn[0][0]']      \n",
            " n)                                                                                               \n",
            "                                                                                                  \n",
            " conv3_block3_2_conv (Conv2D)   (None, 28, 28, 128)  147584      ['conv3_block3_1_relu[0][0]']    \n",
            "                                                                                                  \n",
            " conv3_block3_2_bn (BatchNormal  (None, 28, 28, 128)  512        ['conv3_block3_2_conv[0][0]']    \n",
            " ization)                                                                                         \n",
            "                                                                                                  \n",
            " conv3_block3_2_relu (Activatio  (None, 28, 28, 128)  0          ['conv3_block3_2_bn[0][0]']      \n",
            " n)                                                                                               \n",
            "                                                                                                  \n",
            " conv3_block3_3_conv (Conv2D)   (None, 28, 28, 512)  66048       ['conv3_block3_2_relu[0][0]']    \n",
            "                                                                                                  \n",
            " conv3_block3_3_bn (BatchNormal  (None, 28, 28, 512)  2048       ['conv3_block3_3_conv[0][0]']    \n",
            " ization)                                                                                         \n",
            "                                                                                                  \n",
            " conv3_block3_add (Add)         (None, 28, 28, 512)  0           ['conv3_block2_out[0][0]',       \n",
            "                                                                  'conv3_block3_3_bn[0][0]']      \n",
            "                                                                                                  \n",
            " conv3_block3_out (Activation)  (None, 28, 28, 512)  0           ['conv3_block3_add[0][0]']       \n",
            "                                                                                                  \n",
            " conv3_block4_1_conv (Conv2D)   (None, 28, 28, 128)  65664       ['conv3_block3_out[0][0]']       \n",
            "                                                                                                  \n",
            " conv3_block4_1_bn (BatchNormal  (None, 28, 28, 128)  512        ['conv3_block4_1_conv[0][0]']    \n",
            " ization)                                                                                         \n",
            "                                                                                                  \n",
            " conv3_block4_1_relu (Activatio  (None, 28, 28, 128)  0          ['conv3_block4_1_bn[0][0]']      \n",
            " n)                                                                                               \n",
            "                                                                                                  \n",
            " conv3_block4_2_conv (Conv2D)   (None, 28, 28, 128)  147584      ['conv3_block4_1_relu[0][0]']    \n",
            "                                                                                                  \n",
            " conv3_block4_2_bn (BatchNormal  (None, 28, 28, 128)  512        ['conv3_block4_2_conv[0][0]']    \n",
            " ization)                                                                                         \n",
            "                                                                                                  \n",
            " conv3_block4_2_relu (Activatio  (None, 28, 28, 128)  0          ['conv3_block4_2_bn[0][0]']      \n",
            " n)                                                                                               \n",
            "                                                                                                  \n",
            " conv3_block4_3_conv (Conv2D)   (None, 28, 28, 512)  66048       ['conv3_block4_2_relu[0][0]']    \n",
            "                                                                                                  \n",
            " conv3_block4_3_bn (BatchNormal  (None, 28, 28, 512)  2048       ['conv3_block4_3_conv[0][0]']    \n",
            " ization)                                                                                         \n",
            "                                                                                                  \n",
            " conv3_block4_add (Add)         (None, 28, 28, 512)  0           ['conv3_block3_out[0][0]',       \n",
            "                                                                  'conv3_block4_3_bn[0][0]']      \n",
            "                                                                                                  \n",
            " conv3_block4_out (Activation)  (None, 28, 28, 512)  0           ['conv3_block4_add[0][0]']       \n",
            "                                                                                                  \n",
            " conv4_block1_1_conv (Conv2D)   (None, 14, 14, 256)  131328      ['conv3_block4_out[0][0]']       \n",
            "                                                                                                  \n",
            " conv4_block1_1_bn (BatchNormal  (None, 14, 14, 256)  1024       ['conv4_block1_1_conv[0][0]']    \n",
            " ization)                                                                                         \n",
            "                                                                                                  \n",
            " conv4_block1_1_relu (Activatio  (None, 14, 14, 256)  0          ['conv4_block1_1_bn[0][0]']      \n",
            " n)                                                                                               \n",
            "                                                                                                  \n",
            " conv4_block1_2_conv (Conv2D)   (None, 14, 14, 256)  590080      ['conv4_block1_1_relu[0][0]']    \n",
            "                                                                                                  \n",
            " conv4_block1_2_bn (BatchNormal  (None, 14, 14, 256)  1024       ['conv4_block1_2_conv[0][0]']    \n",
            " ization)                                                                                         \n",
            "                                                                                                  \n",
            " conv4_block1_2_relu (Activatio  (None, 14, 14, 256)  0          ['conv4_block1_2_bn[0][0]']      \n",
            " n)                                                                                               \n",
            "                                                                                                  \n",
            " conv4_block1_0_conv (Conv2D)   (None, 14, 14, 1024  525312      ['conv3_block4_out[0][0]']       \n",
            "                                )                                                                 \n",
            "                                                                                                  \n",
            " conv4_block1_3_conv (Conv2D)   (None, 14, 14, 1024  263168      ['conv4_block1_2_relu[0][0]']    \n",
            "                                )                                                                 \n",
            "                                                                                                  \n",
            " conv4_block1_0_bn (BatchNormal  (None, 14, 14, 1024  4096       ['conv4_block1_0_conv[0][0]']    \n",
            " ization)                       )                                                                 \n",
            "                                                                                                  \n",
            " conv4_block1_3_bn (BatchNormal  (None, 14, 14, 1024  4096       ['conv4_block1_3_conv[0][0]']    \n",
            " ization)                       )                                                                 \n",
            "                                                                                                  \n",
            " conv4_block1_add (Add)         (None, 14, 14, 1024  0           ['conv4_block1_0_bn[0][0]',      \n",
            "                                )                                 'conv4_block1_3_bn[0][0]']      \n",
            "                                                                                                  \n",
            " conv4_block1_out (Activation)  (None, 14, 14, 1024  0           ['conv4_block1_add[0][0]']       \n",
            "                                )                                                                 \n",
            "                                                                                                  \n",
            " conv4_block2_1_conv (Conv2D)   (None, 14, 14, 256)  262400      ['conv4_block1_out[0][0]']       \n",
            "                                                                                                  \n",
            " conv4_block2_1_bn (BatchNormal  (None, 14, 14, 256)  1024       ['conv4_block2_1_conv[0][0]']    \n",
            " ization)                                                                                         \n",
            "                                                                                                  \n",
            " conv4_block2_1_relu (Activatio  (None, 14, 14, 256)  0          ['conv4_block2_1_bn[0][0]']      \n",
            " n)                                                                                               \n",
            "                                                                                                  \n",
            " conv4_block2_2_conv (Conv2D)   (None, 14, 14, 256)  590080      ['conv4_block2_1_relu[0][0]']    \n",
            "                                                                                                  \n",
            " conv4_block2_2_bn (BatchNormal  (None, 14, 14, 256)  1024       ['conv4_block2_2_conv[0][0]']    \n",
            " ization)                                                                                         \n",
            "                                                                                                  \n",
            " conv4_block2_2_relu (Activatio  (None, 14, 14, 256)  0          ['conv4_block2_2_bn[0][0]']      \n",
            " n)                                                                                               \n",
            "                                                                                                  \n",
            " conv4_block2_3_conv (Conv2D)   (None, 14, 14, 1024  263168      ['conv4_block2_2_relu[0][0]']    \n",
            "                                )                                                                 \n",
            "                                                                                                  \n",
            " conv4_block2_3_bn (BatchNormal  (None, 14, 14, 1024  4096       ['conv4_block2_3_conv[0][0]']    \n",
            " ization)                       )                                                                 \n",
            "                                                                                                  \n",
            " conv4_block2_add (Add)         (None, 14, 14, 1024  0           ['conv4_block1_out[0][0]',       \n",
            "                                )                                 'conv4_block2_3_bn[0][0]']      \n",
            "                                                                                                  \n",
            " conv4_block2_out (Activation)  (None, 14, 14, 1024  0           ['conv4_block2_add[0][0]']       \n",
            "                                )                                                                 \n",
            "                                                                                                  \n",
            " conv4_block3_1_conv (Conv2D)   (None, 14, 14, 256)  262400      ['conv4_block2_out[0][0]']       \n",
            "                                                                                                  \n",
            " conv4_block3_1_bn (BatchNormal  (None, 14, 14, 256)  1024       ['conv4_block3_1_conv[0][0]']    \n",
            " ization)                                                                                         \n",
            "                                                                                                  \n",
            " conv4_block3_1_relu (Activatio  (None, 14, 14, 256)  0          ['conv4_block3_1_bn[0][0]']      \n",
            " n)                                                                                               \n",
            "                                                                                                  \n",
            " conv4_block3_2_conv (Conv2D)   (None, 14, 14, 256)  590080      ['conv4_block3_1_relu[0][0]']    \n",
            "                                                                                                  \n",
            " conv4_block3_2_bn (BatchNormal  (None, 14, 14, 256)  1024       ['conv4_block3_2_conv[0][0]']    \n",
            " ization)                                                                                         \n",
            "                                                                                                  \n",
            " conv4_block3_2_relu (Activatio  (None, 14, 14, 256)  0          ['conv4_block3_2_bn[0][0]']      \n",
            " n)                                                                                               \n",
            "                                                                                                  \n",
            " conv4_block3_3_conv (Conv2D)   (None, 14, 14, 1024  263168      ['conv4_block3_2_relu[0][0]']    \n",
            "                                )                                                                 \n",
            "                                                                                                  \n",
            " conv4_block3_3_bn (BatchNormal  (None, 14, 14, 1024  4096       ['conv4_block3_3_conv[0][0]']    \n",
            " ization)                       )                                                                 \n",
            "                                                                                                  \n",
            " conv4_block3_add (Add)         (None, 14, 14, 1024  0           ['conv4_block2_out[0][0]',       \n",
            "                                )                                 'conv4_block3_3_bn[0][0]']      \n",
            "                                                                                                  \n",
            " conv4_block3_out (Activation)  (None, 14, 14, 1024  0           ['conv4_block3_add[0][0]']       \n",
            "                                )                                                                 \n",
            "                                                                                                  \n",
            " conv4_block4_1_conv (Conv2D)   (None, 14, 14, 256)  262400      ['conv4_block3_out[0][0]']       \n",
            "                                                                                                  \n",
            " conv4_block4_1_bn (BatchNormal  (None, 14, 14, 256)  1024       ['conv4_block4_1_conv[0][0]']    \n",
            " ization)                                                                                         \n",
            "                                                                                                  \n",
            " conv4_block4_1_relu (Activatio  (None, 14, 14, 256)  0          ['conv4_block4_1_bn[0][0]']      \n",
            " n)                                                                                               \n",
            "                                                                                                  \n",
            " conv4_block4_2_conv (Conv2D)   (None, 14, 14, 256)  590080      ['conv4_block4_1_relu[0][0]']    \n",
            "                                                                                                  \n",
            " conv4_block4_2_bn (BatchNormal  (None, 14, 14, 256)  1024       ['conv4_block4_2_conv[0][0]']    \n",
            " ization)                                                                                         \n",
            "                                                                                                  \n",
            " conv4_block4_2_relu (Activatio  (None, 14, 14, 256)  0          ['conv4_block4_2_bn[0][0]']      \n",
            " n)                                                                                               \n",
            "                                                                                                  \n",
            " conv4_block4_3_conv (Conv2D)   (None, 14, 14, 1024  263168      ['conv4_block4_2_relu[0][0]']    \n",
            "                                )                                                                 \n",
            "                                                                                                  \n",
            " conv4_block4_3_bn (BatchNormal  (None, 14, 14, 1024  4096       ['conv4_block4_3_conv[0][0]']    \n",
            " ization)                       )                                                                 \n",
            "                                                                                                  \n",
            " conv4_block4_add (Add)         (None, 14, 14, 1024  0           ['conv4_block3_out[0][0]',       \n",
            "                                )                                 'conv4_block4_3_bn[0][0]']      \n",
            "                                                                                                  \n",
            " conv4_block4_out (Activation)  (None, 14, 14, 1024  0           ['conv4_block4_add[0][0]']       \n",
            "                                )                                                                 \n",
            "                                                                                                  \n",
            " conv4_block5_1_conv (Conv2D)   (None, 14, 14, 256)  262400      ['conv4_block4_out[0][0]']       \n",
            "                                                                                                  \n",
            " conv4_block5_1_bn (BatchNormal  (None, 14, 14, 256)  1024       ['conv4_block5_1_conv[0][0]']    \n",
            " ization)                                                                                         \n",
            "                                                                                                  \n",
            " conv4_block5_1_relu (Activatio  (None, 14, 14, 256)  0          ['conv4_block5_1_bn[0][0]']      \n",
            " n)                                                                                               \n",
            "                                                                                                  \n",
            " conv4_block5_2_conv (Conv2D)   (None, 14, 14, 256)  590080      ['conv4_block5_1_relu[0][0]']    \n",
            "                                                                                                  \n",
            " conv4_block5_2_bn (BatchNormal  (None, 14, 14, 256)  1024       ['conv4_block5_2_conv[0][0]']    \n",
            " ization)                                                                                         \n",
            "                                                                                                  \n",
            " conv4_block5_2_relu (Activatio  (None, 14, 14, 256)  0          ['conv4_block5_2_bn[0][0]']      \n",
            " n)                                                                                               \n",
            "                                                                                                  \n",
            " conv4_block5_3_conv (Conv2D)   (None, 14, 14, 1024  263168      ['conv4_block5_2_relu[0][0]']    \n",
            "                                )                                                                 \n",
            "                                                                                                  \n",
            " conv4_block5_3_bn (BatchNormal  (None, 14, 14, 1024  4096       ['conv4_block5_3_conv[0][0]']    \n",
            " ization)                       )                                                                 \n",
            "                                                                                                  \n",
            " conv4_block5_add (Add)         (None, 14, 14, 1024  0           ['conv4_block4_out[0][0]',       \n",
            "                                )                                 'conv4_block5_3_bn[0][0]']      \n",
            "                                                                                                  \n",
            " conv4_block5_out (Activation)  (None, 14, 14, 1024  0           ['conv4_block5_add[0][0]']       \n",
            "                                )                                                                 \n",
            "                                                                                                  \n",
            " conv4_block6_1_conv (Conv2D)   (None, 14, 14, 256)  262400      ['conv4_block5_out[0][0]']       \n",
            "                                                                                                  \n",
            " conv4_block6_1_bn (BatchNormal  (None, 14, 14, 256)  1024       ['conv4_block6_1_conv[0][0]']    \n",
            " ization)                                                                                         \n",
            "                                                                                                  \n",
            " conv4_block6_1_relu (Activatio  (None, 14, 14, 256)  0          ['conv4_block6_1_bn[0][0]']      \n",
            " n)                                                                                               \n",
            "                                                                                                  \n",
            " conv4_block6_2_conv (Conv2D)   (None, 14, 14, 256)  590080      ['conv4_block6_1_relu[0][0]']    \n",
            "                                                                                                  \n",
            " conv4_block6_2_bn (BatchNormal  (None, 14, 14, 256)  1024       ['conv4_block6_2_conv[0][0]']    \n",
            " ization)                                                                                         \n",
            "                                                                                                  \n",
            " conv4_block6_2_relu (Activatio  (None, 14, 14, 256)  0          ['conv4_block6_2_bn[0][0]']      \n",
            " n)                                                                                               \n",
            "                                                                                                  \n",
            " conv4_block6_3_conv (Conv2D)   (None, 14, 14, 1024  263168      ['conv4_block6_2_relu[0][0]']    \n",
            "                                )                                                                 \n",
            "                                                                                                  \n",
            " conv4_block6_3_bn (BatchNormal  (None, 14, 14, 1024  4096       ['conv4_block6_3_conv[0][0]']    \n",
            " ization)                       )                                                                 \n",
            "                                                                                                  \n",
            " conv4_block6_add (Add)         (None, 14, 14, 1024  0           ['conv4_block5_out[0][0]',       \n",
            "                                )                                 'conv4_block6_3_bn[0][0]']      \n",
            "                                                                                                  \n",
            " conv4_block6_out (Activation)  (None, 14, 14, 1024  0           ['conv4_block6_add[0][0]']       \n",
            "                                )                                                                 \n",
            "                                                                                                  \n",
            " conv5_block1_1_conv (Conv2D)   (None, 7, 7, 512)    524800      ['conv4_block6_out[0][0]']       \n",
            "                                                                                                  \n",
            " conv5_block1_1_bn (BatchNormal  (None, 7, 7, 512)   2048        ['conv5_block1_1_conv[0][0]']    \n",
            " ization)                                                                                         \n",
            "                                                                                                  \n",
            " conv5_block1_1_relu (Activatio  (None, 7, 7, 512)   0           ['conv5_block1_1_bn[0][0]']      \n",
            " n)                                                                                               \n",
            "                                                                                                  \n",
            " conv5_block1_2_conv (Conv2D)   (None, 7, 7, 512)    2359808     ['conv5_block1_1_relu[0][0]']    \n",
            "                                                                                                  \n",
            " conv5_block1_2_bn (BatchNormal  (None, 7, 7, 512)   2048        ['conv5_block1_2_conv[0][0]']    \n",
            " ization)                                                                                         \n",
            "                                                                                                  \n",
            " conv5_block1_2_relu (Activatio  (None, 7, 7, 512)   0           ['conv5_block1_2_bn[0][0]']      \n",
            " n)                                                                                               \n",
            "                                                                                                  \n",
            " conv5_block1_0_conv (Conv2D)   (None, 7, 7, 2048)   2099200     ['conv4_block6_out[0][0]']       \n",
            "                                                                                                  \n",
            " conv5_block1_3_conv (Conv2D)   (None, 7, 7, 2048)   1050624     ['conv5_block1_2_relu[0][0]']    \n",
            "                                                                                                  \n",
            " conv5_block1_0_bn (BatchNormal  (None, 7, 7, 2048)  8192        ['conv5_block1_0_conv[0][0]']    \n",
            " ization)                                                                                         \n",
            "                                                                                                  \n",
            " conv5_block1_3_bn (BatchNormal  (None, 7, 7, 2048)  8192        ['conv5_block1_3_conv[0][0]']    \n",
            " ization)                                                                                         \n",
            "                                                                                                  \n",
            " conv5_block1_add (Add)         (None, 7, 7, 2048)   0           ['conv5_block1_0_bn[0][0]',      \n",
            "                                                                  'conv5_block1_3_bn[0][0]']      \n",
            "                                                                                                  \n",
            " conv5_block1_out (Activation)  (None, 7, 7, 2048)   0           ['conv5_block1_add[0][0]']       \n",
            "                                                                                                  \n",
            " conv5_block2_1_conv (Conv2D)   (None, 7, 7, 512)    1049088     ['conv5_block1_out[0][0]']       \n",
            "                                                                                                  \n",
            " conv5_block2_1_bn (BatchNormal  (None, 7, 7, 512)   2048        ['conv5_block2_1_conv[0][0]']    \n",
            " ization)                                                                                         \n",
            "                                                                                                  \n",
            " conv5_block2_1_relu (Activatio  (None, 7, 7, 512)   0           ['conv5_block2_1_bn[0][0]']      \n",
            " n)                                                                                               \n",
            "                                                                                                  \n",
            " conv5_block2_2_conv (Conv2D)   (None, 7, 7, 512)    2359808     ['conv5_block2_1_relu[0][0]']    \n",
            "                                                                                                  \n",
            " conv5_block2_2_bn (BatchNormal  (None, 7, 7, 512)   2048        ['conv5_block2_2_conv[0][0]']    \n",
            " ization)                                                                                         \n",
            "                                                                                                  \n",
            " conv5_block2_2_relu (Activatio  (None, 7, 7, 512)   0           ['conv5_block2_2_bn[0][0]']      \n",
            " n)                                                                                               \n",
            "                                                                                                  \n",
            " conv5_block2_3_conv (Conv2D)   (None, 7, 7, 2048)   1050624     ['conv5_block2_2_relu[0][0]']    \n",
            "                                                                                                  \n",
            " conv5_block2_3_bn (BatchNormal  (None, 7, 7, 2048)  8192        ['conv5_block2_3_conv[0][0]']    \n",
            " ization)                                                                                         \n",
            "                                                                                                  \n",
            " conv5_block2_add (Add)         (None, 7, 7, 2048)   0           ['conv5_block1_out[0][0]',       \n",
            "                                                                  'conv5_block2_3_bn[0][0]']      \n",
            "                                                                                                  \n",
            " conv5_block2_out (Activation)  (None, 7, 7, 2048)   0           ['conv5_block2_add[0][0]']       \n",
            "                                                                                                  \n",
            " conv5_block3_1_conv (Conv2D)   (None, 7, 7, 512)    1049088     ['conv5_block2_out[0][0]']       \n",
            "                                                                                                  \n",
            " conv5_block3_1_bn (BatchNormal  (None, 7, 7, 512)   2048        ['conv5_block3_1_conv[0][0]']    \n",
            " ization)                                                                                         \n",
            "                                                                                                  \n",
            " conv5_block3_1_relu (Activatio  (None, 7, 7, 512)   0           ['conv5_block3_1_bn[0][0]']      \n",
            " n)                                                                                               \n",
            "                                                                                                  \n",
            " conv5_block3_2_conv (Conv2D)   (None, 7, 7, 512)    2359808     ['conv5_block3_1_relu[0][0]']    \n",
            "                                                                                                  \n",
            " conv5_block3_2_bn (BatchNormal  (None, 7, 7, 512)   2048        ['conv5_block3_2_conv[0][0]']    \n",
            " ization)                                                                                         \n",
            "                                                                                                  \n",
            " conv5_block3_2_relu (Activatio  (None, 7, 7, 512)   0           ['conv5_block3_2_bn[0][0]']      \n",
            " n)                                                                                               \n",
            "                                                                                                  \n",
            " conv5_block3_3_conv (Conv2D)   (None, 7, 7, 2048)   1050624     ['conv5_block3_2_relu[0][0]']    \n",
            "                                                                                                  \n",
            " conv5_block3_3_bn (BatchNormal  (None, 7, 7, 2048)  8192        ['conv5_block3_3_conv[0][0]']    \n",
            " ization)                                                                                         \n",
            "                                                                                                  \n",
            " conv5_block3_add (Add)         (None, 7, 7, 2048)   0           ['conv5_block2_out[0][0]',       \n",
            "                                                                  'conv5_block3_3_bn[0][0]']      \n",
            "                                                                                                  \n",
            " conv5_block3_out (Activation)  (None, 7, 7, 2048)   0           ['conv5_block3_add[0][0]']       \n",
            "                                                                                                  \n",
            " batch_normalization (BatchNorm  (None, 7, 7, 2048)  8192        ['conv5_block3_out[0][0]']       \n",
            " alization)                                                                                       \n",
            "                                                                                                  \n",
            " flatten (Flatten)              (None, 100352)       0           ['batch_normalization[0][0]']    \n",
            "                                                                                                  \n",
            " dense (Dense)                  (None, 512)          51380736    ['flatten[0][0]']                \n",
            "                                                                                                  \n",
            " dropout (Dropout)              (None, 512)          0           ['dense[0][0]']                  \n",
            "                                                                                                  \n",
            " dense_1 (Dense)                (None, 256)          131328      ['dropout[0][0]']                \n",
            "                                                                                                  \n",
            " dropout_1 (Dropout)            (None, 256)          0           ['dense_1[0][0]']                \n",
            "                                                                                                  \n",
            " dense_2 (Dense)                (None, 128)          32896       ['dropout_1[0][0]']              \n",
            "                                                                                                  \n",
            " dropout_2 (Dropout)            (None, 128)          0           ['dense_2[0][0]']                \n",
            "                                                                                                  \n",
            " dense_3 (Dense)                (None, 64)           8256        ['dropout_2[0][0]']              \n",
            "                                                                                                  \n",
            " dropout_3 (Dropout)            (None, 64)           0           ['dense_3[0][0]']                \n",
            "                                                                                                  \n",
            " dense_4 (Dense)                (None, 2)            130         ['dropout_3[0][0]']              \n",
            "                                                                                                  \n",
            "==================================================================================================\n",
            "Total params: 75,149,250\n",
            "Trainable params: 51,557,442\n",
            "Non-trainable params: 23,591,808\n",
            "__________________________________________________________________________________________________\n"
          ]
        }
      ],
      "source": [
        "model.summary()"
      ],
      "id": "955c81be"
    },
    {
      "cell_type": "code",
      "execution_count": 19,
      "metadata": {
        "colab": {
          "base_uri": "https://localhost:8080/"
        },
        "id": "46c11c38",
        "outputId": "3e5c8cbd-8c54-4cad-c8d9-d6734102e161"
      },
      "outputs": [
        {
          "output_type": "stream",
          "name": "stdout",
          "text": [
            "Epoch 1/100\n",
            "94/94 [==============================] - 23s 136ms/step - loss: 0.3983 - accuracy: 0.6607 - val_loss: 0.4689 - val_accuracy: 0.7780\n",
            "Epoch 2/100\n",
            "94/94 [==============================] - 12s 126ms/step - loss: 0.2867 - accuracy: 0.7103 - val_loss: 0.4658 - val_accuracy: 0.8000\n",
            "Epoch 3/100\n",
            "94/94 [==============================] - 11s 115ms/step - loss: 0.2494 - accuracy: 0.7247 - val_loss: 0.4529 - val_accuracy: 0.7840\n",
            "Epoch 4/100\n",
            "94/94 [==============================] - 11s 116ms/step - loss: 0.2199 - accuracy: 0.7550 - val_loss: 0.4391 - val_accuracy: 0.7880\n",
            "Epoch 5/100\n",
            "94/94 [==============================] - 12s 130ms/step - loss: 0.1986 - accuracy: 0.7667 - val_loss: 0.4219 - val_accuracy: 0.8000\n",
            "Epoch 6/100\n",
            "94/94 [==============================] - 11s 119ms/step - loss: 0.1942 - accuracy: 0.7847 - val_loss: 0.4152 - val_accuracy: 0.8040\n",
            "Epoch 7/100\n",
            "94/94 [==============================] - 11s 120ms/step - loss: 0.1856 - accuracy: 0.7813 - val_loss: 0.4123 - val_accuracy: 0.7940\n",
            "Epoch 8/100\n",
            "94/94 [==============================] - 12s 123ms/step - loss: 0.1777 - accuracy: 0.7993 - val_loss: 0.4091 - val_accuracy: 0.7960\n",
            "Epoch 9/100\n",
            "94/94 [==============================] - 12s 125ms/step - loss: 0.1633 - accuracy: 0.8333 - val_loss: 0.4091 - val_accuracy: 0.7920\n",
            "Epoch 10/100\n",
            "94/94 [==============================] - 12s 124ms/step - loss: 0.1588 - accuracy: 0.8357 - val_loss: 0.4071 - val_accuracy: 0.8000\n",
            "Epoch 11/100\n",
            "94/94 [==============================] - 12s 123ms/step - loss: 0.1492 - accuracy: 0.8413 - val_loss: 0.4084 - val_accuracy: 0.8040\n",
            "Epoch 12/100\n",
            "94/94 [==============================] - 11s 122ms/step - loss: 0.1393 - accuracy: 0.8653 - val_loss: 0.4154 - val_accuracy: 0.7840\n",
            "Epoch 13/100\n",
            "94/94 [==============================] - 11s 121ms/step - loss: 0.1221 - accuracy: 0.8807 - val_loss: 0.4135 - val_accuracy: 0.7960\n",
            "Epoch 14/100\n",
            "94/94 [==============================] - 11s 120ms/step - loss: 0.1189 - accuracy: 0.8797 - val_loss: 0.4202 - val_accuracy: 0.8140\n",
            "Epoch 15/100\n",
            "94/94 [==============================] - 11s 122ms/step - loss: 0.1039 - accuracy: 0.9033 - val_loss: 0.4478 - val_accuracy: 0.8180\n",
            "Epoch 16/100\n",
            "94/94 [==============================] - 12s 123ms/step - loss: 0.0896 - accuracy: 0.9097 - val_loss: 0.4447 - val_accuracy: 0.8120\n",
            "Epoch 17/100\n",
            "94/94 [==============================] - 12s 123ms/step - loss: 0.0840 - accuracy: 0.9227 - val_loss: 0.4751 - val_accuracy: 0.8000\n",
            "Epoch 18/100\n",
            "94/94 [==============================] - 12s 123ms/step - loss: 0.0718 - accuracy: 0.9357 - val_loss: 0.5081 - val_accuracy: 0.8100\n",
            "Epoch 19/100\n",
            "94/94 [==============================] - 12s 123ms/step - loss: 0.0618 - accuracy: 0.9377 - val_loss: 0.5429 - val_accuracy: 0.8160\n",
            "Epoch 20/100\n",
            "94/94 [==============================] - 11s 122ms/step - loss: 0.0570 - accuracy: 0.9497 - val_loss: 0.6173 - val_accuracy: 0.8180\n",
            "Epoch 21/100\n",
            "94/94 [==============================] - 11s 122ms/step - loss: 0.0525 - accuracy: 0.9513 - val_loss: 0.6213 - val_accuracy: 0.8100\n",
            "Epoch 22/100\n",
            "94/94 [==============================] - 11s 122ms/step - loss: 0.0449 - accuracy: 0.9657 - val_loss: 0.6230 - val_accuracy: 0.8040\n",
            "Epoch 23/100\n",
            "94/94 [==============================] - 11s 122ms/step - loss: 0.0392 - accuracy: 0.9663 - val_loss: 0.6885 - val_accuracy: 0.8000\n",
            "Epoch 24/100\n",
            "94/94 [==============================] - 11s 122ms/step - loss: 0.0363 - accuracy: 0.9723 - val_loss: 0.6980 - val_accuracy: 0.7960\n",
            "Epoch 25/100\n",
            "94/94 [==============================] - 11s 122ms/step - loss: 0.0353 - accuracy: 0.9693 - val_loss: 0.7345 - val_accuracy: 0.7960\n",
            "Epoch 26/100\n",
            "94/94 [==============================] - 13s 133ms/step - loss: 0.0266 - accuracy: 0.9817 - val_loss: 0.8404 - val_accuracy: 0.8100\n",
            "Epoch 27/100\n",
            "94/94 [==============================] - 11s 122ms/step - loss: 0.0264 - accuracy: 0.9800 - val_loss: 0.9088 - val_accuracy: 0.8040\n",
            "Epoch 28/100\n",
            "94/94 [==============================] - 11s 122ms/step - loss: 0.0238 - accuracy: 0.9787 - val_loss: 0.8808 - val_accuracy: 0.8040\n",
            "Epoch 29/100\n",
            "94/94 [==============================] - 12s 123ms/step - loss: 0.0241 - accuracy: 0.9797 - val_loss: 0.8617 - val_accuracy: 0.7880\n",
            "Epoch 30/100\n",
            "94/94 [==============================] - 12s 123ms/step - loss: 0.0212 - accuracy: 0.9827 - val_loss: 0.9476 - val_accuracy: 0.7960\n",
            "Epoch 31/100\n",
            "94/94 [==============================] - 12s 123ms/step - loss: 0.0211 - accuracy: 0.9837 - val_loss: 0.9356 - val_accuracy: 0.7980\n",
            "Epoch 32/100\n",
            "94/94 [==============================] - 13s 133ms/step - loss: 0.0188 - accuracy: 0.9850 - val_loss: 0.8928 - val_accuracy: 0.8060\n",
            "Epoch 33/100\n",
            "94/94 [==============================] - 12s 123ms/step - loss: 0.0174 - accuracy: 0.9843 - val_loss: 0.9630 - val_accuracy: 0.8120\n",
            "Epoch 34/100\n",
            "94/94 [==============================] - 12s 123ms/step - loss: 0.0151 - accuracy: 0.9890 - val_loss: 0.9143 - val_accuracy: 0.7940\n",
            "Epoch 35/100\n",
            "94/94 [==============================] - 12s 123ms/step - loss: 0.0134 - accuracy: 0.9893 - val_loss: 1.0361 - val_accuracy: 0.8020\n",
            "Epoch 36/100\n",
            "94/94 [==============================] - 11s 122ms/step - loss: 0.0146 - accuracy: 0.9897 - val_loss: 1.0226 - val_accuracy: 0.8020\n",
            "Epoch 37/100\n",
            "94/94 [==============================] - 12s 123ms/step - loss: 0.0135 - accuracy: 0.9890 - val_loss: 1.0156 - val_accuracy: 0.8000\n",
            "Epoch 38/100\n",
            "94/94 [==============================] - 12s 123ms/step - loss: 0.0104 - accuracy: 0.9923 - val_loss: 1.0634 - val_accuracy: 0.8040\n",
            "Epoch 39/100\n",
            "94/94 [==============================] - 12s 123ms/step - loss: 0.0141 - accuracy: 0.9913 - val_loss: 1.1274 - val_accuracy: 0.8080\n",
            "Epoch 40/100\n",
            "94/94 [==============================] - 12s 123ms/step - loss: 0.0077 - accuracy: 0.9957 - val_loss: 1.2653 - val_accuracy: 0.8020\n",
            "Epoch 41/100\n",
            "94/94 [==============================] - 13s 133ms/step - loss: 0.0096 - accuracy: 0.9927 - val_loss: 1.2298 - val_accuracy: 0.8040\n",
            "Epoch 42/100\n",
            "94/94 [==============================] - 11s 122ms/step - loss: 0.0081 - accuracy: 0.9937 - val_loss: 1.3031 - val_accuracy: 0.8100\n",
            "Epoch 43/100\n",
            "94/94 [==============================] - 11s 121ms/step - loss: 0.0111 - accuracy: 0.9907 - val_loss: 1.1934 - val_accuracy: 0.8080\n",
            "Epoch 44/100\n",
            "94/94 [==============================] - 11s 122ms/step - loss: 0.0102 - accuracy: 0.9917 - val_loss: 1.2659 - val_accuracy: 0.8080\n",
            "Epoch 45/100\n",
            "94/94 [==============================] - 11s 122ms/step - loss: 0.0067 - accuracy: 0.9953 - val_loss: 1.2888 - val_accuracy: 0.8020\n",
            "Epoch 46/100\n",
            "94/94 [==============================] - 11s 122ms/step - loss: 0.0100 - accuracy: 0.9907 - val_loss: 1.2663 - val_accuracy: 0.8000\n",
            "Epoch 47/100\n",
            "94/94 [==============================] - 12s 123ms/step - loss: 0.0093 - accuracy: 0.9920 - val_loss: 1.2802 - val_accuracy: 0.8000\n",
            "Epoch 48/100\n",
            "94/94 [==============================] - 11s 122ms/step - loss: 0.0105 - accuracy: 0.9913 - val_loss: 1.4513 - val_accuracy: 0.8060\n",
            "Epoch 49/100\n",
            "94/94 [==============================] - 11s 122ms/step - loss: 0.0085 - accuracy: 0.9923 - val_loss: 1.2863 - val_accuracy: 0.8060\n",
            "Epoch 50/100\n",
            "94/94 [==============================] - 11s 122ms/step - loss: 0.0073 - accuracy: 0.9947 - val_loss: 1.2913 - val_accuracy: 0.8000\n",
            "Epoch 51/100\n",
            "94/94 [==============================] - 11s 122ms/step - loss: 0.0063 - accuracy: 0.9960 - val_loss: 1.3652 - val_accuracy: 0.8080\n",
            "Epoch 52/100\n",
            "94/94 [==============================] - 12s 123ms/step - loss: 0.0074 - accuracy: 0.9943 - val_loss: 1.4271 - val_accuracy: 0.8140\n",
            "Epoch 53/100\n",
            "94/94 [==============================] - 12s 123ms/step - loss: 0.0050 - accuracy: 0.9977 - val_loss: 1.4492 - val_accuracy: 0.8120\n",
            "Epoch 54/100\n",
            "94/94 [==============================] - 11s 122ms/step - loss: 0.0077 - accuracy: 0.9947 - val_loss: 1.3550 - val_accuracy: 0.8060\n",
            "Epoch 55/100\n",
            "94/94 [==============================] - 12s 123ms/step - loss: 0.0045 - accuracy: 0.9957 - val_loss: 1.4727 - val_accuracy: 0.8100\n",
            "Epoch 56/100\n",
            "94/94 [==============================] - 12s 123ms/step - loss: 0.0049 - accuracy: 0.9973 - val_loss: 1.4044 - val_accuracy: 0.8080\n",
            "Epoch 57/100\n",
            "94/94 [==============================] - 11s 122ms/step - loss: 0.0048 - accuracy: 0.9970 - val_loss: 1.5588 - val_accuracy: 0.8100\n",
            "Epoch 58/100\n",
            "94/94 [==============================] - 11s 122ms/step - loss: 0.0056 - accuracy: 0.9963 - val_loss: 1.5275 - val_accuracy: 0.8100\n",
            "Epoch 59/100\n",
            "94/94 [==============================] - 12s 123ms/step - loss: 0.0040 - accuracy: 0.9977 - val_loss: 1.5330 - val_accuracy: 0.8020\n",
            "Epoch 60/100\n",
            "94/94 [==============================] - 12s 123ms/step - loss: 0.0055 - accuracy: 0.9950 - val_loss: 1.5405 - val_accuracy: 0.8120\n",
            "Epoch 61/100\n",
            "94/94 [==============================] - 12s 123ms/step - loss: 0.0075 - accuracy: 0.9953 - val_loss: 1.5865 - val_accuracy: 0.8080\n",
            "Epoch 62/100\n",
            "94/94 [==============================] - 12s 123ms/step - loss: 0.0047 - accuracy: 0.9957 - val_loss: 1.4388 - val_accuracy: 0.7960\n",
            "Epoch 63/100\n",
            "94/94 [==============================] - 12s 123ms/step - loss: 0.0054 - accuracy: 0.9957 - val_loss: 1.6397 - val_accuracy: 0.8140\n",
            "Epoch 64/100\n",
            "94/94 [==============================] - 11s 122ms/step - loss: 0.0061 - accuracy: 0.9953 - val_loss: 1.5018 - val_accuracy: 0.8140\n",
            "Epoch 65/100\n",
            "94/94 [==============================] - 13s 134ms/step - loss: 0.0063 - accuracy: 0.9973 - val_loss: 1.3457 - val_accuracy: 0.8100\n",
            "Epoch 66/100\n",
            "94/94 [==============================] - 11s 122ms/step - loss: 0.0049 - accuracy: 0.9960 - val_loss: 1.5174 - val_accuracy: 0.8120\n",
            "Epoch 67/100\n",
            "94/94 [==============================] - 12s 123ms/step - loss: 0.0044 - accuracy: 0.9983 - val_loss: 1.4045 - val_accuracy: 0.8160\n",
            "Epoch 68/100\n",
            "94/94 [==============================] - 12s 123ms/step - loss: 0.0062 - accuracy: 0.9970 - val_loss: 1.4880 - val_accuracy: 0.8120\n",
            "Epoch 69/100\n",
            "94/94 [==============================] - 12s 123ms/step - loss: 0.0040 - accuracy: 0.9973 - val_loss: 1.5346 - val_accuracy: 0.8180\n",
            "Epoch 70/100\n",
            "94/94 [==============================] - 11s 123ms/step - loss: 0.0032 - accuracy: 0.9980 - val_loss: 1.6021 - val_accuracy: 0.8120\n",
            "Epoch 71/100\n",
            "94/94 [==============================] - 11s 122ms/step - loss: 0.0047 - accuracy: 0.9973 - val_loss: 1.6510 - val_accuracy: 0.8060\n",
            "Epoch 72/100\n",
            "94/94 [==============================] - 12s 123ms/step - loss: 0.0024 - accuracy: 0.9987 - val_loss: 1.5932 - val_accuracy: 0.8040\n",
            "Epoch 73/100\n",
            "94/94 [==============================] - 13s 134ms/step - loss: 0.0038 - accuracy: 0.9970 - val_loss: 1.6018 - val_accuracy: 0.8020\n",
            "Epoch 74/100\n",
            "94/94 [==============================] - 12s 123ms/step - loss: 0.0037 - accuracy: 0.9963 - val_loss: 1.6910 - val_accuracy: 0.8100\n",
            "Epoch 75/100\n",
            "94/94 [==============================] - 12s 123ms/step - loss: 0.0050 - accuracy: 0.9967 - val_loss: 1.5009 - val_accuracy: 0.7980\n",
            "Epoch 76/100\n",
            "94/94 [==============================] - 12s 133ms/step - loss: 0.0027 - accuracy: 0.9983 - val_loss: 1.7027 - val_accuracy: 0.8060\n",
            "Epoch 77/100\n",
            "94/94 [==============================] - 12s 123ms/step - loss: 0.0044 - accuracy: 0.9940 - val_loss: 1.7116 - val_accuracy: 0.8180\n",
            "Epoch 78/100\n",
            "94/94 [==============================] - 11s 122ms/step - loss: 0.0032 - accuracy: 0.9967 - val_loss: 1.6115 - val_accuracy: 0.8020\n",
            "Epoch 79/100\n",
            "94/94 [==============================] - 11s 122ms/step - loss: 0.0045 - accuracy: 0.9957 - val_loss: 1.5958 - val_accuracy: 0.8000\n",
            "Epoch 80/100\n",
            "94/94 [==============================] - 12s 123ms/step - loss: 0.0033 - accuracy: 0.9973 - val_loss: 1.6149 - val_accuracy: 0.8020\n",
            "Epoch 81/100\n",
            "94/94 [==============================] - 12s 123ms/step - loss: 0.0032 - accuracy: 0.9983 - val_loss: 1.6892 - val_accuracy: 0.8020\n",
            "Epoch 82/100\n",
            "94/94 [==============================] - 12s 123ms/step - loss: 0.0024 - accuracy: 0.9987 - val_loss: 1.7648 - val_accuracy: 0.8060\n",
            "Epoch 83/100\n",
            "94/94 [==============================] - 12s 124ms/step - loss: 0.0039 - accuracy: 0.9970 - val_loss: 1.5678 - val_accuracy: 0.7960\n",
            "Epoch 84/100\n",
            "94/94 [==============================] - 12s 124ms/step - loss: 0.0030 - accuracy: 0.9980 - val_loss: 1.7598 - val_accuracy: 0.8040\n",
            "Epoch 85/100\n",
            "94/94 [==============================] - 12s 123ms/step - loss: 0.0028 - accuracy: 0.9980 - val_loss: 1.7273 - val_accuracy: 0.8080\n",
            "Epoch 86/100\n",
            "94/94 [==============================] - 11s 122ms/step - loss: 0.0052 - accuracy: 0.9957 - val_loss: 1.7519 - val_accuracy: 0.8060\n",
            "Epoch 87/100\n",
            "94/94 [==============================] - 13s 133ms/step - loss: 0.0074 - accuracy: 0.9973 - val_loss: 1.7211 - val_accuracy: 0.8040\n",
            "Epoch 88/100\n",
            "94/94 [==============================] - 11s 122ms/step - loss: 0.0023 - accuracy: 0.9980 - val_loss: 1.6260 - val_accuracy: 0.8040\n",
            "Epoch 89/100\n",
            "94/94 [==============================] - 11s 122ms/step - loss: 0.0043 - accuracy: 0.9977 - val_loss: 1.6371 - val_accuracy: 0.8040\n",
            "Epoch 90/100\n",
            "94/94 [==============================] - 12s 123ms/step - loss: 0.0028 - accuracy: 0.9977 - val_loss: 1.8182 - val_accuracy: 0.8040\n",
            "Epoch 91/100\n",
            "94/94 [==============================] - 11s 122ms/step - loss: 0.0041 - accuracy: 0.9970 - val_loss: 1.7364 - val_accuracy: 0.8000\n",
            "Epoch 92/100\n",
            "94/94 [==============================] - 11s 122ms/step - loss: 0.0031 - accuracy: 0.9977 - val_loss: 1.7265 - val_accuracy: 0.7980\n",
            "Epoch 93/100\n",
            "94/94 [==============================] - 11s 122ms/step - loss: 0.0044 - accuracy: 0.9970 - val_loss: 1.6237 - val_accuracy: 0.8020\n",
            "Epoch 94/100\n",
            "94/94 [==============================] - 11s 122ms/step - loss: 0.0059 - accuracy: 0.9963 - val_loss: 1.9527 - val_accuracy: 0.8020\n",
            "Epoch 95/100\n",
            "94/94 [==============================] - 12s 123ms/step - loss: 0.0057 - accuracy: 0.9957 - val_loss: 1.7610 - val_accuracy: 0.7800\n",
            "Epoch 96/100\n",
            "94/94 [==============================] - 12s 123ms/step - loss: 0.0034 - accuracy: 0.9973 - val_loss: 1.6182 - val_accuracy: 0.7860\n",
            "Epoch 97/100\n",
            "94/94 [==============================] - 12s 123ms/step - loss: 0.0043 - accuracy: 0.9967 - val_loss: 1.6179 - val_accuracy: 0.7980\n",
            "Epoch 98/100\n",
            "94/94 [==============================] - 12s 123ms/step - loss: 0.0052 - accuracy: 0.9973 - val_loss: 1.8196 - val_accuracy: 0.8020\n",
            "Epoch 99/100\n",
            "94/94 [==============================] - 12s 123ms/step - loss: 0.0042 - accuracy: 0.9977 - val_loss: 1.5916 - val_accuracy: 0.8040\n",
            "Epoch 100/100\n",
            "94/94 [==============================] - 11s 122ms/step - loss: 0.0040 - accuracy: 0.9960 - val_loss: 1.7077 - val_accuracy: 0.8040\n"
          ]
        }
      ],
      "source": [
        "from keras.callbacks import ModelCheckpoint, EarlyStopping\n",
        "# '''\n",
        "# checkpoint = ModelCheckpoint(\"vgg16_1.h5\", monitor='val_acc', \n",
        "#                              verbose=1, save_best_only=True, save_weights_only=False, mode='auto', period=1)\n",
        "\n",
        "# early = EarlyStopping(monitor='val_acc', \n",
        "#                       min_delta=0, patience=20, verbose=1, mode='auto')\n",
        "# '''\n",
        "hist = model.fit(X_train,y_train ,validation_data=(X_val,y_val), epochs=100, batch_size =32, class_weight= class_weight)"
      ],
      "id": "46c11c38"
    },
    {
      "cell_type": "code",
      "source": [
        "from sklearn.metrics import confusion_matrix"
      ],
      "metadata": {
        "id": "j0xOGRKmiN_K"
      },
      "id": "j0xOGRKmiN_K",
      "execution_count": 20,
      "outputs": []
    },
    {
      "cell_type": "markdown",
      "source": [
        "# Visualization"
      ],
      "metadata": {
        "id": "gV4CEUiBkIvT"
      },
      "id": "gV4CEUiBkIvT"
    },
    {
      "cell_type": "code",
      "source": [
        "model.save('path/ResNet50');"
      ],
      "metadata": {
        "colab": {
          "base_uri": "https://localhost:8080/"
        },
        "id": "pem-gloe-tlQ",
        "outputId": "1405fba2-d39b-4384-b404-c7e35a5a9d68"
      },
      "id": "pem-gloe-tlQ",
      "execution_count": 21,
      "outputs": [
        {
          "output_type": "stream",
          "name": "stderr",
          "text": [
            "WARNING:absl:Found untraced functions such as _jit_compiled_convolution_op, _jit_compiled_convolution_op, _jit_compiled_convolution_op, _jit_compiled_convolution_op, _jit_compiled_convolution_op while saving (showing 5 of 53). These functions will not be directly callable after loading.\n"
          ]
        }
      ]
    },
    {
      "cell_type": "code",
      "execution_count": 26,
      "metadata": {
        "id": "8cde9d64"
      },
      "outputs": [],
      "source": [
        "import matplotlib.pyplot as plt\n",
        "plt.plot(hist.history[\"accuracy\"])\n",
        "plt.plot(hist.history[\"val_accuracy\"])\n",
        "plt.plot(hist.history[\"loss\"])\n",
        "plt.plot(hist.history[\"val_loss\"])\n",
        "plt.title(\"model accuracy - ResNet50\")\n",
        "plt.ylabel(\"Accuracy\")\n",
        "plt.xlabel(\"Epoch\")\n",
        "plt.legend([\"Accuracy\",\"Validation Accuracy\",\"loss\",\"Validation Loss\"])\n",
        "plt.show()"
      ],
      "id": "8cde9d64"
    },
    {
      "cell_type": "code",
      "execution_count": 23,
      "metadata": {
        "colab": {
          "base_uri": "https://localhost:8080/"
        },
        "id": "fZrjv57nqAhY",
        "outputId": "5d55e80e-0d23-4e4b-c8fd-7deadf85c1e3"
      },
      "outputs": [
        {
          "output_type": "stream",
          "name": "stdout",
          "text": [
            "Looking in indexes: https://pypi.org/simple, https://us-python.pkg.dev/colab-wheels/public/simple/\n",
            "Collecting sklearn\n",
            "  Downloading sklearn-0.0.post1.tar.gz (3.6 kB)\n",
            "  Preparing metadata (setup.py) ... \u001b[?25l\u001b[?25hdone\n",
            "Building wheels for collected packages: sklearn\n",
            "  \u001b[1;31merror\u001b[0m: \u001b[1msubprocess-exited-with-error\u001b[0m\n",
            "  \n",
            "  \u001b[31m×\u001b[0m \u001b[32mpython setup.py bdist_wheel\u001b[0m did not run successfully.\n",
            "  \u001b[31m│\u001b[0m exit code: \u001b[1;36m1\u001b[0m\n",
            "  \u001b[31m╰─>\u001b[0m See above for output.\n",
            "  \n",
            "  \u001b[1;35mnote\u001b[0m: This error originates from a subprocess, and is likely not a problem with pip.\n",
            "  Building wheel for sklearn (setup.py) ... \u001b[?25lerror\n",
            "\u001b[31m  ERROR: Failed building wheel for sklearn\u001b[0m\u001b[31m\n",
            "\u001b[0m\u001b[?25h  Running setup.py clean for sklearn\n",
            "  \u001b[1;31merror\u001b[0m: \u001b[1msubprocess-exited-with-error\u001b[0m\n",
            "  \n",
            "  \u001b[31m×\u001b[0m \u001b[32mpython setup.py clean\u001b[0m did not run successfully.\n",
            "  \u001b[31m│\u001b[0m exit code: \u001b[1;36m1\u001b[0m\n",
            "  \u001b[31m╰─>\u001b[0m See above for output.\n",
            "  \n",
            "  \u001b[1;35mnote\u001b[0m: This error originates from a subprocess, and is likely not a problem with pip.\n",
            "\u001b[31m  ERROR: Failed cleaning build dir for sklearn\u001b[0m\u001b[31m\n",
            "\u001b[0mFailed to build sklearn\n",
            "Installing collected packages: sklearn\n",
            "  \u001b[1;31merror\u001b[0m: \u001b[1msubprocess-exited-with-error\u001b[0m\n",
            "  \n",
            "  \u001b[31m×\u001b[0m \u001b[32mRunning setup.py install for sklearn\u001b[0m did not run successfully.\n",
            "  \u001b[31m│\u001b[0m exit code: \u001b[1;36m1\u001b[0m\n",
            "  \u001b[31m╰─>\u001b[0m See above for output.\n",
            "  \n",
            "  \u001b[1;35mnote\u001b[0m: This error originates from a subprocess, and is likely not a problem with pip.\n",
            "  Running setup.py install for sklearn ... \u001b[?25l\u001b[?25herror\n",
            "\u001b[1;31merror\u001b[0m: \u001b[1mlegacy-install-failure\u001b[0m\n",
            "\n",
            "\u001b[31m×\u001b[0m Encountered error while trying to install package.\n",
            "\u001b[31m╰─>\u001b[0m sklearn\n",
            "\n",
            "\u001b[1;35mnote\u001b[0m: This is an issue with the package mentioned above, not pip.\n",
            "\u001b[1;36mhint\u001b[0m: See above for output from the failure.\n"
          ]
        }
      ],
      "source": [
        "! pip install sklearn"
      ],
      "id": "fZrjv57nqAhY"
    },
    {
      "cell_type": "code",
      "source": [
        "from tensorflow import keras\n",
        "model = keras.models.load_model('path/to/location');"
      ],
      "metadata": {
        "id": "aXa0tT-p-q1A"
      },
      "id": "aXa0tT-p-q1A",
      "execution_count": null,
      "outputs": []
    },
    {
      "cell_type": "code",
      "execution_count": null,
      "metadata": {
        "id": "vQqxDRFIU3Qo"
      },
      "outputs": [],
      "source": [
        "import sklearn\n",
        "from sklearn.metrics import confusion_matrix , classification_report\n",
        "import numpy as np\n",
        "import pandas as pd\n",
        "from sklearn.metrics import precision_recall_fscore_support\n",
        "\n",
        "pred = model.predict(X_test)"
      ],
      "id": "vQqxDRFIU3Qo"
    },
    {
      "cell_type": "code",
      "source": [
        "pred "
      ],
      "metadata": {
        "id": "ZnDVw-Xprnec"
      },
      "id": "ZnDVw-Xprnec",
      "execution_count": null,
      "outputs": []
    },
    {
      "cell_type": "code",
      "source": [
        "pred = np.argmax(pred, axis=1)"
      ],
      "metadata": {
        "id": "panmJGH9jwud"
      },
      "id": "panmJGH9jwud",
      "execution_count": null,
      "outputs": []
    },
    {
      "cell_type": "code",
      "source": [
        "y_true"
      ],
      "metadata": {
        "id": "FruUcpelsL56"
      },
      "id": "FruUcpelsL56",
      "execution_count": null,
      "outputs": []
    },
    {
      "cell_type": "code",
      "source": [
        "\n",
        "y_true = np.argmax(y_test,axis=1)"
      ],
      "metadata": {
        "id": "PatKOrKbjLgv"
      },
      "id": "PatKOrKbjLgv",
      "execution_count": null,
      "outputs": []
    },
    {
      "cell_type": "code",
      "source": [
        "pip install mlxtend"
      ],
      "metadata": {
        "id": "EgxcnoObsU8G"
      },
      "id": "EgxcnoObsU8G",
      "execution_count": null,
      "outputs": []
    },
    {
      "cell_type": "code",
      "source": [
        "import matplotlib.pyplot as plt"
      ],
      "metadata": {
        "id": "jFj9eMQ-s-iu"
      },
      "id": "jFj9eMQ-s-iu",
      "execution_count": null,
      "outputs": []
    },
    {
      "cell_type": "code",
      "source": [
        "\n",
        "CM = confusion_matrix(y_true,pred)\n",
        "from mlxtend.plotting import plot_confusion_matrix\n",
        "fig, ax = plot_confusion_matrix(conf_mat=CM, figsize=(5,5))\n",
        "plt.show()"
      ],
      "metadata": {
        "id": "wnaSN8Plj29h"
      },
      "id": "wnaSN8Plj29h",
      "execution_count": null,
      "outputs": []
    },
    {
      "cell_type": "code",
      "source": [
        "y_test.shape"
      ],
      "metadata": {
        "id": "rrlw1Eo4tufE"
      },
      "id": "rrlw1Eo4tufE",
      "execution_count": null,
      "outputs": []
    },
    {
      "cell_type": "code",
      "source": [
        "from sklearn.metrics import accuracy_score\n",
        "pred1 = model.predict(X_test)\n",
        "accuracy = accuracy_score(y_test, np.round(pred1))*100"
      ],
      "metadata": {
        "id": "2QweCyVKtRpJ"
      },
      "id": "2QweCyVKtRpJ",
      "execution_count": null,
      "outputs": []
    },
    {
      "cell_type": "code",
      "source": [
        "pred1.shape"
      ],
      "metadata": {
        "id": "aid_F_OIt-6y"
      },
      "id": "aid_F_OIt-6y",
      "execution_count": null,
      "outputs": []
    },
    {
      "cell_type": "code",
      "source": [
        "print(CM)"
      ],
      "metadata": {
        "id": "KeqaiHIbuEpB"
      },
      "id": "KeqaiHIbuEpB",
      "execution_count": null,
      "outputs": []
    },
    {
      "cell_type": "code",
      "source": [
        "tn,fp,fn,tp = CM.ravel()"
      ],
      "metadata": {
        "id": "TeYRN8NOuR7Y"
      },
      "id": "TeYRN8NOuR7Y",
      "execution_count": null,
      "outputs": []
    },
    {
      "cell_type": "code",
      "source": [
        "prec = tp/(tp+fp)*100"
      ],
      "metadata": {
        "id": "ujQ4WcJguHrR"
      },
      "id": "ujQ4WcJguHrR",
      "execution_count": null,
      "outputs": []
    },
    {
      "cell_type": "code",
      "source": [
        "prec"
      ],
      "metadata": {
        "id": "fo0FohQNua0r"
      },
      "id": "fo0FohQNua0r",
      "execution_count": null,
      "outputs": []
    },
    {
      "cell_type": "code",
      "source": [
        "recall = tp/(tp+fn)*100\n",
        "f1 = 2*prec*recall/(prec+recall)"
      ],
      "metadata": {
        "id": "Q4OIgm62ucww"
      },
      "id": "Q4OIgm62ucww",
      "execution_count": null,
      "outputs": []
    },
    {
      "cell_type": "code",
      "source": [
        "f1"
      ],
      "metadata": {
        "id": "YNS4nxC4uqOq"
      },
      "id": "YNS4nxC4uqOq",
      "execution_count": null,
      "outputs": []
    }
  ],
  "metadata": {
    "accelerator": "GPU",
    "colab": {
      "provenance": [],
      "include_colab_link": true
    },
    "kernelspec": {
      "display_name": "Python 3",
      "language": "python",
      "name": "python3"
    },
    "language_info": {
      "codemirror_mode": {
        "name": "ipython",
        "version": 3
      },
      "file_extension": ".py",
      "mimetype": "text/x-python",
      "name": "python",
      "nbconvert_exporter": "python",
      "pygments_lexer": "ipython3",
      "version": "3.8.8"
    },
    "gpuClass": "standard"
  },
  "nbformat": 4,
  "nbformat_minor": 5
}