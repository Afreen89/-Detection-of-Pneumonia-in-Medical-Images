{
  "cells": [
    {
      "cell_type": "markdown",
      "metadata": {
        "id": "view-in-github",
        "colab_type": "text"
      },
      "source": [
        "<a href=\"https://colab.research.google.com/github/Afreen89/-Detection-of-Pneumonia-in-Medical-Images/blob/main/Vgg_19_For_Pneumonia.ipynb\" target=\"_parent\"><img src=\"https://colab.research.google.com/assets/colab-badge.svg\" alt=\"Open In Colab\"/></a>"
      ]
    },
    {
      "cell_type": "code",
      "execution_count": null,
      "metadata": {
        "id": "55aa65cd"
      },
      "outputs": [],
      "source": [
        "import keras,os\n",
        "from keras.models import Sequential\n",
        "from keras.layers import Dense, Conv2D, MaxPool2D , Flatten\n",
        "from keras.preprocessing.image import ImageDataGenerator\n",
        "import numpy as np\n",
        "from tqdm import tqdm\n",
        "import random\n",
        "import cv2"
      ],
      "id": "55aa65cd"
    },
    {
      "cell_type": "code",
      "execution_count": null,
      "metadata": {
        "colab": {
          "base_uri": "https://localhost:8080/"
        },
        "id": "pPIhPKY7MLzC",
        "outputId": "45f1b6a2-fcd5-4326-9f18-e5ccfea547bf"
      },
      "outputs": [
        {
          "output_type": "stream",
          "name": "stdout",
          "text": [
            "Mounted at /content/drive\n"
          ]
        }
      ],
      "source": [
        "from google.colab import drive\n",
        "drive.mount('/content/drive')"
      ],
      "id": "pPIhPKY7MLzC"
    },
    {
      "cell_type": "code",
      "execution_count": null,
      "metadata": {
        "colab": {
          "base_uri": "https://localhost:8080/",
          "height": 87
        },
        "id": "x-MTQ32bM2NX",
        "outputId": "fb0ae3c3-bd79-4f12-a0fe-83fe057d70ad"
      },
      "outputs": [
        {
          "output_type": "execute_result",
          "data": {
            "text/plain": [
              "\"\\n\\ndef get_data(folder):\\n    X = []\\n    y = []\\n    for folderName in os.listdir(folder):\\n        if not folderName.startswith('.'):\\n            if folderName in ['no_pneumonia']:\\n                label = 0\\n            elif folderName in ['pneumonia']:\\n                label = 1\\n            else:\\n                label = 2\\n            for image_filename in tqdm(os.listdir(folder + folderName)):\\n                img_file = cv2.imread(folder + folderName + '/' + image_filename)\\n                if img_file is not None:\\n                    img_file = skimage.transform.resize(img_file, (150, 150, 3))\\n                    #img_file = scipy.misc.imresize(arr=img_file, size=(150, 150, 3))\\n                    img_arr = np.asarray(img_file)\\n                    X.append(img_arr)\\n                    y.append(label)\\n    X = np.asarray(X)\\n    y = np.asarray(y)\\n    return X,y\\n\\n\""
            ],
            "application/vnd.google.colaboratory.intrinsic+json": {
              "type": "string"
            }
          },
          "metadata": {},
          "execution_count": 3
        }
      ],
      "source": [
        "'''\n",
        "\n",
        "def get_data(folder):\n",
        "    X = []\n",
        "    y = []\n",
        "    for folderName in os.listdir(folder):\n",
        "        if not folderName.startswith('.'):\n",
        "            if folderName in ['no_pneumonia']:\n",
        "                label = 0\n",
        "            elif folderName in ['pneumonia']:\n",
        "                label = 1\n",
        "            else:\n",
        "                label = 2\n",
        "            for image_filename in tqdm(os.listdir(folder + folderName)):\n",
        "                img_file = cv2.imread(folder + folderName + '/' + image_filename)\n",
        "                if img_file is not None:\n",
        "                    img_file = skimage.transform.resize(img_file, (150, 150, 3))\n",
        "                    #img_file = scipy.misc.imresize(arr=img_file, size=(150, 150, 3))\n",
        "                    img_arr = np.asarray(img_file)\n",
        "                    X.append(img_arr)\n",
        "                    y.append(label)\n",
        "    X = np.asarray(X)\n",
        "    y = np.asarray(y)\n",
        "    return X,y\n",
        "\n",
        "'''"
      ],
      "id": "x-MTQ32bM2NX"
    },
    {
      "cell_type": "code",
      "execution_count": null,
      "metadata": {
        "id": "gOFRYMNcSrlr"
      },
      "outputs": [],
      "source": [
        "CATEGORIES = ['no_pneumonia' , 'pneumonia']"
      ],
      "id": "gOFRYMNcSrlr"
    },
    {
      "cell_type": "code",
      "execution_count": null,
      "metadata": {
        "id": "dB8dasA0SfbE"
      },
      "outputs": [],
      "source": [
        "train_dir = r'/content/drive/MyDrive/ML/Pneumonia/data-task1/train'\n",
        "val_dir =  r'/content/drive/MyDrive/ML/Pneumonia/data-task1/val'\n",
        "test_dir =  r'/content/drive/MyDrive/ML/Pneumonia/data-task1/test'\n",
        "def pre_pro(DIRECTORY):\n",
        "\n",
        "  data = []\n",
        "  #pre-processing\n",
        "  for category in CATEGORIES:\n",
        "        folder = os.path.join(DIRECTORY, category)\n",
        "        label = CATEGORIES.index(category)\n",
        "        for img in tqdm(os.listdir(folder)):\n",
        "                img_path = os.path.join(folder, img)\n",
        "                #print(img_path)\n",
        "                #img_arr = cv2.imread(img_path)\n",
        "                #img_arr = cv2.imread(img_path, cv2.IMREAD_GRAYSCALE)\n",
        "                img_arr = cv2.imread(img_path)\n",
        "                img_arr = cv2.resize(img_arr, (224, 224))\n",
        "                data.append([img_arr, label])\n",
        "         \n",
        "  len(data)\n",
        "  random.shuffle(data)\n",
        "\n",
        "  X = []\n",
        "  Y = []\n",
        "    \n",
        "  for features, labels in data:\n",
        "   X.append(features)\n",
        "   Y.append(labels)\n",
        "    \n",
        "  #X = np.array(X).reshape(-1, IMG_SIZE, IMG_SIZE, 1)\n",
        "  X = np.array(X)\n",
        "  y = np.array(Y)\n",
        "  return X, y"
      ],
      "id": "dB8dasA0SfbE"
    },
    {
      "cell_type": "code",
      "execution_count": null,
      "metadata": {
        "colab": {
          "base_uri": "https://localhost:8080/"
        },
        "collapsed": true,
        "id": "eTC5Vo3AOjvT",
        "outputId": "af3773b5-d791-45bf-b5e0-fcfbd66cf219"
      },
      "outputs": [
        {
          "output_type": "stream",
          "name": "stderr",
          "text": [
            "100%|██████████| 2358/2358 [01:38<00:00, 24.02it/s]\n",
            "100%|██████████| 642/642 [00:21<00:00, 29.64it/s]\n",
            "100%|██████████| 395/395 [00:16<00:00, 24.51it/s]\n",
            "100%|██████████| 105/105 [01:02<00:00,  1.68it/s]\n",
            "100%|██████████| 390/390 [00:17<00:00, 22.44it/s]\n",
            "100%|██████████| 110/110 [00:03<00:00, 28.51it/s]\n"
          ]
        }
      ],
      "source": [
        "X_train, y_train = pre_pro(r'/content/drive/MyDrive/ML/Pneumonia/data-task1/train')\n",
        "X_test, y_test= pre_pro(r'/content/drive/MyDrive/ML/Pneumonia/data-task1/test')\n",
        "X_val, y_val= pre_pro(r'/content/drive/MyDrive/ML/Pneumonia/data-task1/val')\n"
      ],
      "id": "eTC5Vo3AOjvT"
    },
    {
      "cell_type": "code",
      "execution_count": null,
      "metadata": {
        "colab": {
          "base_uri": "https://localhost:8080/"
        },
        "id": "7dYCntlLt29A",
        "outputId": "c1cb8fa0-8aa7-49e9-cafd-86464bba6ae2"
      },
      "outputs": [
        {
          "output_type": "stream",
          "name": "stdout",
          "text": [
            "(3000, 224, 224, 3)\n",
            "(500, 224, 224, 3)\n",
            "(500, 224, 224, 3)\n"
          ]
        }
      ],
      "source": [
        "print(X_train.shape)\n",
        "print(X_test.shape)\n",
        "print(X_val.shape)"
      ],
      "id": "7dYCntlLt29A"
    },
    {
      "cell_type": "code",
      "execution_count": null,
      "metadata": {
        "id": "HcF_4YFkcFAb"
      },
      "outputs": [],
      "source": [
        "\n",
        "# from keras.utils.np_utils import to_categorical\n",
        "# y_train = to_categorical(y_train, num_classes = 2)\n",
        "# y_test = to_categorical(y_test, num_classes = 2)\n",
        "# y_val = to_categorical(y_val, num_classes = 2)\n"
      ],
      "id": "HcF_4YFkcFAb"
    },
    {
      "cell_type": "code",
      "execution_count": null,
      "metadata": {
        "colab": {
          "base_uri": "https://localhost:8080/"
        },
        "id": "j10EMys-Uqxh",
        "outputId": "c2f80afc-c3a0-4e63-9194-40aab1f49d53"
      },
      "outputs": [
        {
          "output_type": "stream",
          "name": "stdout",
          "text": [
            "(3000,)\n",
            "(500,)\n",
            "(500,)\n"
          ]
        }
      ],
      "source": [
        "print(y_train.shape)\n",
        "print(y_test.shape)\n",
        "print(y_val.shape)"
      ],
      "id": "j10EMys-Uqxh"
    },
    {
      "cell_type": "code",
      "execution_count": null,
      "metadata": {
        "id": "No_fYktrU5W3"
      },
      "outputs": [],
      "source": [
        "#dont run,, pickle saved\n",
        "import pickle\n",
        "pickle.dump(X_train, open(r'/content/drive/MyDrive/ML/Pneumonia/data-task1/X_train.pkl', 'wb'))\n",
        "pickle.dump(y_train, open(r'/content/drive/MyDrive/ML/Pneumonia/data-task1/y_train.pkl', 'wb'))\n",
        "pickle.dump(X_test, open(r'/content/drive/MyDrive/ML/Pneumonia/data-task1/X_test.pkl', 'wb'))\n",
        "pickle.dump(y_test, open(r'/content/drive/MyDrive/ML/Pneumonia/data-task1/y_test.pkl', 'wb'))\n",
        "pickle.dump(X_val, open(r'/content/drive/MyDrive/ML/Pneumonia/data-task1/X_val.pkl', 'wb'))\n",
        "pickle.dump(y_val, open(r'/content/drive/MyDrive/ML/Pneumonia/data-task1/y_val.pkl', 'wb'))\n"
      ],
      "id": "No_fYktrU5W3"
    },
    {
      "cell_type": "code",
      "execution_count": null,
      "metadata": {
        "id": "-mM5ZvN-VHc7"
      },
      "outputs": [],
      "source": [
        "import pickle\n",
        "\n",
        "X_train = pickle.load(open(r'/content/drive/MyDrive/ML/Pneumonia/data-task1/X_train.pkl','rb'))\n",
        "y_train = pickle.load(open(r'/content/drive/MyDrive/ML/Pneumonia/data-task1/y_train.pkl','rb'))\n",
        "X_test = pickle.load(open(r'/content/drive/MyDrive/ML/Pneumonia/data-task1/X_test.pkl','rb'))\n",
        "y_test = pickle.load(open(r'/content/drive/MyDrive/ML/Pneumonia/data-task1/y_test.pkl','rb'))\n",
        "X_val = pickle.load(open(r'/content/drive/MyDrive/ML/Pneumonia/data-task1/X_val.pkl','rb'))\n",
        "y_val = pickle.load(open(r'/content/drive/MyDrive/ML/Pneumonia/data-task1/y_val.pkl','rb'))\n"
      ],
      "id": "-mM5ZvN-VHc7"
    },
    {
      "cell_type": "code",
      "execution_count": null,
      "metadata": {
        "id": "G8TE9N2POAaB"
      },
      "outputs": [],
      "source": [
        "from keras.preprocessing.image import ImageDataGenerator\n",
        "train_datagen = ImageDataGenerator(\n",
        "    rescale=1. / 255,\n",
        "    shear_range=0.2,\n",
        "    zoom_range=0.2,\n",
        "    horizontal_flip=True)\n",
        "\n",
        "test_datagen = ImageDataGenerator(rescale=1. / 255)\n",
        "val_datagen = ImageDataGenerator(rescale=1. / 255)\n"
      ],
      "id": "G8TE9N2POAaB"
    },
    {
      "cell_type": "code",
      "execution_count": null,
      "metadata": {
        "id": "E8sJrVmGODVi"
      },
      "outputs": [],
      "source": [
        "train_datagen.fit(X_train)\n",
        "val_datagen.fit(X_val)\n",
        "test_datagen.fit(X_test)"
      ],
      "id": "E8sJrVmGODVi"
    },
    {
      "cell_type": "code",
      "execution_count": null,
      "metadata": {
        "id": "ul4WcwQj67W7"
      },
      "outputs": [],
      "source": [
        "weight_for_0 = 0.35\n",
        "weight_for_1 = 0.65\n",
        "\n",
        "class_weight = {0:weight_for_0, 1: weight_for_1}"
      ],
      "id": "ul4WcwQj67W7"
    },
    {
      "cell_type": "code",
      "execution_count": null,
      "metadata": {
        "id": "XtXr9RXd_QXh"
      },
      "outputs": [],
      "source": [
        "import seaborn as sns"
      ],
      "id": "XtXr9RXd_QXh"
    },
    {
      "cell_type": "code",
      "execution_count": null,
      "metadata": {
        "id": "SSz5k68iNhiW"
      },
      "outputs": [],
      "source": [
        "from keras.applications.vgg19 import VGG19\n",
        "from tensorflow.keras.layers import Dense, Activation, Conv2D, MaxPooling2D, Flatten, Dropout, BatchNormalization\n",
        "from keras.models import load_model\n",
        "from keras.models import Model\n",
        "from tensorflow.keras import regularizers\n",
        "vgg19 = VGG19(input_shape=[224,224,3], weights='imagenet', include_top=False)\n",
        "for layer in vgg19.layers:\n",
        "    layer.trainable = False\n",
        "\n",
        "X = vgg19.output\n",
        "X = BatchNormalization()(X)\n",
        "X = Flatten()(X) \n",
        "\n",
        "X = Dense(512, activation='relu')(X) \n",
        "X = Dropout(0.5)(X)\n",
        "#output = BatchNormalization()(X)\n",
        "\n",
        "X = Dense(256, activation='relu')(X) \n",
        "X = Dropout(0.5)(X)\n",
        "#output = BatchNormalization()(X)\n",
        "\n",
        "X = Dense(128, activation='relu')(X) \n",
        "X = Dropout(0.5)(X)\n",
        "#output = BatchNormalization()(X)\n",
        "\n",
        "X = Dense(64, activation='relu')(X) \n",
        "X = Dropout(0.5)(X)\n",
        "#output = BatchNormalization()(X)\n",
        "\n",
        "output = Dense(2, activation='softmax')(X) \n",
        "model = Model(inputs=vgg19.input, outputs=output)"
      ],
      "id": "SSz5k68iNhiW"
    },
    {
      "cell_type": "code",
      "execution_count": null,
      "metadata": {
        "id": "f772f449"
      },
      "outputs": [],
      "source": [
        "from tensorflow.keras.optimizers import Adam\n",
        "opt = Adam(lr=0.03)\n",
        "\n",
        "model.compile(optimizer='sgd', \n",
        "              loss=keras.losses.SparseCategoricalCrossentropy(), metrics=['accuracy'])"
      ],
      "id": "f772f449"
    },
    {
      "cell_type": "code",
      "execution_count": null,
      "metadata": {
        "colab": {
          "base_uri": "https://localhost:8080/"
        },
        "id": "955c81be",
        "outputId": "5f16644c-8ac1-4cdf-fa93-c814b2eb9c84"
      },
      "outputs": [
        {
          "output_type": "stream",
          "name": "stdout",
          "text": [
            "Model: \"model_1\"\n",
            "_________________________________________________________________\n",
            " Layer (type)                Output Shape              Param #   \n",
            "=================================================================\n",
            " input_2 (InputLayer)        [(None, 224, 224, 3)]     0         \n",
            "                                                                 \n",
            " block1_conv1 (Conv2D)       (None, 224, 224, 64)      1792      \n",
            "                                                                 \n",
            " block1_conv2 (Conv2D)       (None, 224, 224, 64)      36928     \n",
            "                                                                 \n",
            " block1_pool (MaxPooling2D)  (None, 112, 112, 64)      0         \n",
            "                                                                 \n",
            " block2_conv1 (Conv2D)       (None, 112, 112, 128)     73856     \n",
            "                                                                 \n",
            " block2_conv2 (Conv2D)       (None, 112, 112, 128)     147584    \n",
            "                                                                 \n",
            " block2_pool (MaxPooling2D)  (None, 56, 56, 128)       0         \n",
            "                                                                 \n",
            " block3_conv1 (Conv2D)       (None, 56, 56, 256)       295168    \n",
            "                                                                 \n",
            " block3_conv2 (Conv2D)       (None, 56, 56, 256)       590080    \n",
            "                                                                 \n",
            " block3_conv3 (Conv2D)       (None, 56, 56, 256)       590080    \n",
            "                                                                 \n",
            " block3_conv4 (Conv2D)       (None, 56, 56, 256)       590080    \n",
            "                                                                 \n",
            " block3_pool (MaxPooling2D)  (None, 28, 28, 256)       0         \n",
            "                                                                 \n",
            " block4_conv1 (Conv2D)       (None, 28, 28, 512)       1180160   \n",
            "                                                                 \n",
            " block4_conv2 (Conv2D)       (None, 28, 28, 512)       2359808   \n",
            "                                                                 \n",
            " block4_conv3 (Conv2D)       (None, 28, 28, 512)       2359808   \n",
            "                                                                 \n",
            " block4_conv4 (Conv2D)       (None, 28, 28, 512)       2359808   \n",
            "                                                                 \n",
            " block4_pool (MaxPooling2D)  (None, 14, 14, 512)       0         \n",
            "                                                                 \n",
            " block5_conv1 (Conv2D)       (None, 14, 14, 512)       2359808   \n",
            "                                                                 \n",
            " block5_conv2 (Conv2D)       (None, 14, 14, 512)       2359808   \n",
            "                                                                 \n",
            " block5_conv3 (Conv2D)       (None, 14, 14, 512)       2359808   \n",
            "                                                                 \n",
            " block5_conv4 (Conv2D)       (None, 14, 14, 512)       2359808   \n",
            "                                                                 \n",
            " block5_pool (MaxPooling2D)  (None, 7, 7, 512)         0         \n",
            "                                                                 \n",
            " batch_normalization_1 (Batc  (None, 7, 7, 512)        2048      \n",
            " hNormalization)                                                 \n",
            "                                                                 \n",
            " flatten_1 (Flatten)         (None, 25088)             0         \n",
            "                                                                 \n",
            " dense_5 (Dense)             (None, 512)               12845568  \n",
            "                                                                 \n",
            " dropout_4 (Dropout)         (None, 512)               0         \n",
            "                                                                 \n",
            " dense_6 (Dense)             (None, 256)               131328    \n",
            "                                                                 \n",
            " dropout_5 (Dropout)         (None, 256)               0         \n",
            "                                                                 \n",
            " dense_7 (Dense)             (None, 128)               32896     \n",
            "                                                                 \n",
            " dropout_6 (Dropout)         (None, 128)               0         \n",
            "                                                                 \n",
            " dense_8 (Dense)             (None, 64)                8256      \n",
            "                                                                 \n",
            " dropout_7 (Dropout)         (None, 64)                0         \n",
            "                                                                 \n",
            " dense_9 (Dense)             (None, 2)                 130       \n",
            "                                                                 \n",
            "=================================================================\n",
            "Total params: 33,044,610\n",
            "Trainable params: 13,019,202\n",
            "Non-trainable params: 20,025,408\n",
            "_________________________________________________________________\n"
          ]
        }
      ],
      "source": [
        "model.summary()"
      ],
      "id": "955c81be"
    },
    {
      "cell_type": "code",
      "execution_count": null,
      "metadata": {
        "colab": {
          "base_uri": "https://localhost:8080/"
        },
        "id": "46c11c38",
        "outputId": "84595b4a-2a5f-4cc7-b58b-1fd5df42d492"
      },
      "outputs": [
        {
          "output_type": "stream",
          "name": "stdout",
          "text": [
            "Epoch 1/100\n",
            "94/94 [==============================] - 41s 325ms/step - loss: 0.3815 - accuracy: 0.6500 - val_loss: 0.4779 - val_accuracy: 0.8040\n",
            "Epoch 2/100\n",
            "94/94 [==============================] - 18s 196ms/step - loss: 0.3138 - accuracy: 0.6767 - val_loss: 0.4741 - val_accuracy: 0.7920\n",
            "Epoch 3/100\n",
            "94/94 [==============================] - 18s 196ms/step - loss: 0.2802 - accuracy: 0.6983 - val_loss: 0.5006 - val_accuracy: 0.7520\n",
            "Epoch 4/100\n",
            "94/94 [==============================] - 19s 198ms/step - loss: 0.2528 - accuracy: 0.7200 - val_loss: 0.4680 - val_accuracy: 0.7640\n",
            "Epoch 5/100\n",
            "94/94 [==============================] - 19s 199ms/step - loss: 0.2453 - accuracy: 0.7457 - val_loss: 0.4791 - val_accuracy: 0.7500\n",
            "Epoch 6/100\n",
            "94/94 [==============================] - 19s 200ms/step - loss: 0.2354 - accuracy: 0.7490 - val_loss: 0.4582 - val_accuracy: 0.7840\n",
            "Epoch 7/100\n",
            "94/94 [==============================] - 19s 202ms/step - loss: 0.2261 - accuracy: 0.7727 - val_loss: 0.4629 - val_accuracy: 0.7740\n",
            "Epoch 8/100\n",
            "94/94 [==============================] - 19s 202ms/step - loss: 0.2202 - accuracy: 0.7733 - val_loss: 0.4525 - val_accuracy: 0.7680\n",
            "Epoch 9/100\n",
            "94/94 [==============================] - 19s 202ms/step - loss: 0.2097 - accuracy: 0.7817 - val_loss: 0.4563 - val_accuracy: 0.7620\n",
            "Epoch 10/100\n",
            "94/94 [==============================] - 19s 203ms/step - loss: 0.2067 - accuracy: 0.7797 - val_loss: 0.4431 - val_accuracy: 0.7580\n",
            "Epoch 11/100\n",
            "94/94 [==============================] - 19s 205ms/step - loss: 0.1990 - accuracy: 0.7947 - val_loss: 0.4487 - val_accuracy: 0.7620\n",
            "Epoch 12/100\n",
            "94/94 [==============================] - 19s 205ms/step - loss: 0.1916 - accuracy: 0.8090 - val_loss: 0.4391 - val_accuracy: 0.7560\n",
            "Epoch 13/100\n",
            "94/94 [==============================] - 19s 205ms/step - loss: 0.1909 - accuracy: 0.8110 - val_loss: 0.4276 - val_accuracy: 0.7620\n",
            "Epoch 14/100\n",
            "94/94 [==============================] - 19s 206ms/step - loss: 0.1770 - accuracy: 0.8290 - val_loss: 0.4283 - val_accuracy: 0.7740\n",
            "Epoch 15/100\n",
            "94/94 [==============================] - 19s 206ms/step - loss: 0.1697 - accuracy: 0.8317 - val_loss: 0.4330 - val_accuracy: 0.7780\n",
            "Epoch 16/100\n",
            "94/94 [==============================] - 19s 206ms/step - loss: 0.1602 - accuracy: 0.8473 - val_loss: 0.4235 - val_accuracy: 0.7800\n",
            "Epoch 17/100\n",
            "94/94 [==============================] - 19s 206ms/step - loss: 0.1451 - accuracy: 0.8597 - val_loss: 0.4253 - val_accuracy: 0.7860\n",
            "Epoch 18/100\n",
            "94/94 [==============================] - 19s 207ms/step - loss: 0.1336 - accuracy: 0.8740 - val_loss: 0.4346 - val_accuracy: 0.7940\n",
            "Epoch 19/100\n",
            "94/94 [==============================] - 19s 207ms/step - loss: 0.1321 - accuracy: 0.8800 - val_loss: 0.4284 - val_accuracy: 0.8100\n",
            "Epoch 20/100\n",
            "94/94 [==============================] - 19s 207ms/step - loss: 0.1226 - accuracy: 0.8910 - val_loss: 0.4479 - val_accuracy: 0.8140\n",
            "Epoch 21/100\n",
            "94/94 [==============================] - 19s 207ms/step - loss: 0.1147 - accuracy: 0.8990 - val_loss: 0.4581 - val_accuracy: 0.8040\n",
            "Epoch 22/100\n",
            "94/94 [==============================] - 19s 207ms/step - loss: 0.0992 - accuracy: 0.9100 - val_loss: 0.4630 - val_accuracy: 0.8180\n",
            "Epoch 23/100\n",
            "94/94 [==============================] - 19s 207ms/step - loss: 0.0927 - accuracy: 0.9167 - val_loss: 0.4784 - val_accuracy: 0.8100\n",
            "Epoch 24/100\n",
            "94/94 [==============================] - 19s 206ms/step - loss: 0.0830 - accuracy: 0.9270 - val_loss: 0.5352 - val_accuracy: 0.8040\n",
            "Epoch 25/100\n",
            "94/94 [==============================] - 19s 207ms/step - loss: 0.0793 - accuracy: 0.9333 - val_loss: 0.5252 - val_accuracy: 0.8060\n",
            "Epoch 26/100\n",
            "94/94 [==============================] - 19s 207ms/step - loss: 0.0686 - accuracy: 0.9443 - val_loss: 0.5569 - val_accuracy: 0.8020\n",
            "Epoch 27/100\n",
            "94/94 [==============================] - 19s 207ms/step - loss: 0.0594 - accuracy: 0.9483 - val_loss: 0.5924 - val_accuracy: 0.8040\n",
            "Epoch 28/100\n",
            "94/94 [==============================] - 19s 207ms/step - loss: 0.0491 - accuracy: 0.9617 - val_loss: 0.6249 - val_accuracy: 0.7980\n",
            "Epoch 29/100\n",
            "94/94 [==============================] - 19s 207ms/step - loss: 0.0488 - accuracy: 0.9603 - val_loss: 0.6749 - val_accuracy: 0.8160\n",
            "Epoch 30/100\n",
            "94/94 [==============================] - 19s 207ms/step - loss: 0.0374 - accuracy: 0.9727 - val_loss: 0.7324 - val_accuracy: 0.8040\n",
            "Epoch 31/100\n",
            "94/94 [==============================] - 19s 207ms/step - loss: 0.0390 - accuracy: 0.9723 - val_loss: 0.6769 - val_accuracy: 0.8020\n",
            "Epoch 32/100\n",
            "94/94 [==============================] - 19s 207ms/step - loss: 0.0351 - accuracy: 0.9770 - val_loss: 0.7913 - val_accuracy: 0.7980\n",
            "Epoch 33/100\n",
            "94/94 [==============================] - 19s 207ms/step - loss: 0.0316 - accuracy: 0.9783 - val_loss: 0.8569 - val_accuracy: 0.8020\n",
            "Epoch 34/100\n",
            "94/94 [==============================] - 19s 207ms/step - loss: 0.0231 - accuracy: 0.9850 - val_loss: 0.7782 - val_accuracy: 0.8020\n",
            "Epoch 35/100\n",
            "94/94 [==============================] - 20s 209ms/step - loss: 0.0259 - accuracy: 0.9827 - val_loss: 0.8241 - val_accuracy: 0.7940\n",
            "Epoch 36/100\n",
            "94/94 [==============================] - 19s 207ms/step - loss: 0.0214 - accuracy: 0.9863 - val_loss: 0.9627 - val_accuracy: 0.7980\n",
            "Epoch 37/100\n",
            "94/94 [==============================] - 19s 207ms/step - loss: 0.0201 - accuracy: 0.9877 - val_loss: 0.9624 - val_accuracy: 0.8080\n",
            "Epoch 38/100\n",
            "94/94 [==============================] - 19s 207ms/step - loss: 0.0202 - accuracy: 0.9850 - val_loss: 0.9379 - val_accuracy: 0.8000\n",
            "Epoch 39/100\n",
            "94/94 [==============================] - 19s 207ms/step - loss: 0.0171 - accuracy: 0.9873 - val_loss: 0.9813 - val_accuracy: 0.8060\n",
            "Epoch 40/100\n",
            "94/94 [==============================] - 19s 207ms/step - loss: 0.0149 - accuracy: 0.9903 - val_loss: 1.0436 - val_accuracy: 0.8060\n",
            "Epoch 41/100\n",
            "94/94 [==============================] - 19s 207ms/step - loss: 0.0147 - accuracy: 0.9910 - val_loss: 1.0169 - val_accuracy: 0.8080\n",
            "Epoch 42/100\n",
            "94/94 [==============================] - 19s 207ms/step - loss: 0.0119 - accuracy: 0.9937 - val_loss: 0.9677 - val_accuracy: 0.8020\n",
            "Epoch 43/100\n",
            "94/94 [==============================] - 19s 207ms/step - loss: 0.0114 - accuracy: 0.9910 - val_loss: 1.1568 - val_accuracy: 0.8140\n",
            "Epoch 44/100\n",
            "94/94 [==============================] - 19s 207ms/step - loss: 0.0122 - accuracy: 0.9930 - val_loss: 1.1085 - val_accuracy: 0.8040\n",
            "Epoch 45/100\n",
            "94/94 [==============================] - 19s 207ms/step - loss: 0.0109 - accuracy: 0.9940 - val_loss: 1.1065 - val_accuracy: 0.8060\n",
            "Epoch 46/100\n",
            "94/94 [==============================] - 19s 207ms/step - loss: 0.0097 - accuracy: 0.9940 - val_loss: 1.1207 - val_accuracy: 0.8080\n",
            "Epoch 47/100\n",
            "94/94 [==============================] - 19s 207ms/step - loss: 0.0141 - accuracy: 0.9893 - val_loss: 1.0399 - val_accuracy: 0.8040\n",
            "Epoch 48/100\n",
            "94/94 [==============================] - 19s 207ms/step - loss: 0.0119 - accuracy: 0.9917 - val_loss: 1.1508 - val_accuracy: 0.7980\n",
            "Epoch 49/100\n",
            "94/94 [==============================] - 19s 207ms/step - loss: 0.0104 - accuracy: 0.9927 - val_loss: 1.1980 - val_accuracy: 0.7980\n",
            "Epoch 50/100\n",
            "94/94 [==============================] - 19s 207ms/step - loss: 0.0113 - accuracy: 0.9917 - val_loss: 1.1349 - val_accuracy: 0.7920\n",
            "Epoch 51/100\n",
            "94/94 [==============================] - 19s 207ms/step - loss: 0.0076 - accuracy: 0.9963 - val_loss: 1.2349 - val_accuracy: 0.7980\n",
            "Epoch 52/100\n",
            "94/94 [==============================] - 19s 207ms/step - loss: 0.0091 - accuracy: 0.9930 - val_loss: 1.2330 - val_accuracy: 0.7980\n",
            "Epoch 53/100\n",
            "94/94 [==============================] - 19s 207ms/step - loss: 0.0130 - accuracy: 0.9923 - val_loss: 1.2347 - val_accuracy: 0.8020\n",
            "Epoch 54/100\n",
            "94/94 [==============================] - 19s 207ms/step - loss: 0.0091 - accuracy: 0.9927 - val_loss: 1.2443 - val_accuracy: 0.8040\n",
            "Epoch 55/100\n",
            "94/94 [==============================] - 19s 207ms/step - loss: 0.0126 - accuracy: 0.9927 - val_loss: 1.1662 - val_accuracy: 0.8060\n",
            "Epoch 56/100\n",
            "94/94 [==============================] - 19s 207ms/step - loss: 0.0088 - accuracy: 0.9953 - val_loss: 1.1688 - val_accuracy: 0.7980\n",
            "Epoch 57/100\n",
            "94/94 [==============================] - 19s 207ms/step - loss: 0.0077 - accuracy: 0.9957 - val_loss: 1.3110 - val_accuracy: 0.7980\n",
            "Epoch 58/100\n",
            "94/94 [==============================] - 19s 207ms/step - loss: 0.0081 - accuracy: 0.9950 - val_loss: 1.2711 - val_accuracy: 0.7920\n",
            "Epoch 59/100\n",
            "94/94 [==============================] - 19s 207ms/step - loss: 0.0090 - accuracy: 0.9930 - val_loss: 1.3573 - val_accuracy: 0.7960\n",
            "Epoch 60/100\n",
            "94/94 [==============================] - 19s 207ms/step - loss: 0.0064 - accuracy: 0.9953 - val_loss: 1.3242 - val_accuracy: 0.8040\n",
            "Epoch 61/100\n",
            "94/94 [==============================] - 19s 207ms/step - loss: 0.0074 - accuracy: 0.9957 - val_loss: 1.4291 - val_accuracy: 0.8040\n",
            "Epoch 62/100\n",
            "94/94 [==============================] - 19s 207ms/step - loss: 0.0080 - accuracy: 0.9947 - val_loss: 1.2751 - val_accuracy: 0.8000\n",
            "Epoch 63/100\n",
            "94/94 [==============================] - 19s 207ms/step - loss: 0.0106 - accuracy: 0.9947 - val_loss: 1.3149 - val_accuracy: 0.8100\n",
            "Epoch 64/100\n",
            "94/94 [==============================] - 20s 209ms/step - loss: 0.0092 - accuracy: 0.9953 - val_loss: 1.3263 - val_accuracy: 0.8040\n",
            "Epoch 65/100\n",
            "94/94 [==============================] - 19s 207ms/step - loss: 0.0062 - accuracy: 0.9960 - val_loss: 1.3022 - val_accuracy: 0.8020\n",
            "Epoch 66/100\n",
            "94/94 [==============================] - 19s 207ms/step - loss: 0.0065 - accuracy: 0.9963 - val_loss: 1.3790 - val_accuracy: 0.8060\n",
            "Epoch 67/100\n",
            "94/94 [==============================] - 19s 207ms/step - loss: 0.0077 - accuracy: 0.9953 - val_loss: 1.3048 - val_accuracy: 0.8000\n",
            "Epoch 68/100\n",
            "94/94 [==============================] - 19s 207ms/step - loss: 0.0057 - accuracy: 0.9963 - val_loss: 1.4706 - val_accuracy: 0.8020\n",
            "Epoch 69/100\n",
            "94/94 [==============================] - 19s 207ms/step - loss: 0.0064 - accuracy: 0.9957 - val_loss: 1.4337 - val_accuracy: 0.7980\n",
            "Epoch 70/100\n",
            "94/94 [==============================] - 19s 207ms/step - loss: 0.0042 - accuracy: 0.9973 - val_loss: 1.4752 - val_accuracy: 0.8040\n",
            "Epoch 71/100\n",
            "94/94 [==============================] - 19s 207ms/step - loss: 0.0042 - accuracy: 0.9977 - val_loss: 1.4922 - val_accuracy: 0.8040\n",
            "Epoch 72/100\n",
            "94/94 [==============================] - 19s 207ms/step - loss: 0.0048 - accuracy: 0.9977 - val_loss: 1.4455 - val_accuracy: 0.8080\n",
            "Epoch 73/100\n",
            "94/94 [==============================] - 19s 207ms/step - loss: 0.0044 - accuracy: 0.9973 - val_loss: 1.6026 - val_accuracy: 0.8080\n",
            "Epoch 74/100\n",
            "94/94 [==============================] - 19s 207ms/step - loss: 0.0061 - accuracy: 0.9960 - val_loss: 1.5030 - val_accuracy: 0.8000\n",
            "Epoch 75/100\n",
            "94/94 [==============================] - 19s 207ms/step - loss: 0.0055 - accuracy: 0.9973 - val_loss: 1.6058 - val_accuracy: 0.8080\n",
            "Epoch 76/100\n",
            "94/94 [==============================] - 20s 210ms/step - loss: 0.0046 - accuracy: 0.9973 - val_loss: 1.5404 - val_accuracy: 0.8020\n",
            "Epoch 77/100\n",
            "94/94 [==============================] - 19s 207ms/step - loss: 0.0036 - accuracy: 0.9990 - val_loss: 1.5048 - val_accuracy: 0.8060\n",
            "Epoch 78/100\n",
            "94/94 [==============================] - 19s 207ms/step - loss: 0.0053 - accuracy: 0.9973 - val_loss: 1.5019 - val_accuracy: 0.7920\n",
            "Epoch 79/100\n",
            "94/94 [==============================] - 19s 207ms/step - loss: 0.0051 - accuracy: 0.9967 - val_loss: 1.4379 - val_accuracy: 0.8060\n",
            "Epoch 80/100\n",
            "94/94 [==============================] - 19s 207ms/step - loss: 0.0038 - accuracy: 0.9990 - val_loss: 1.4684 - val_accuracy: 0.8000\n",
            "Epoch 81/100\n",
            "94/94 [==============================] - 19s 207ms/step - loss: 0.0046 - accuracy: 0.9973 - val_loss: 1.4186 - val_accuracy: 0.8240\n",
            "Epoch 82/100\n",
            "94/94 [==============================] - 19s 208ms/step - loss: 0.0042 - accuracy: 0.9977 - val_loss: 1.6216 - val_accuracy: 0.8100\n",
            "Epoch 83/100\n",
            "94/94 [==============================] - 19s 207ms/step - loss: 0.0043 - accuracy: 0.9973 - val_loss: 1.6032 - val_accuracy: 0.8040\n",
            "Epoch 84/100\n",
            "94/94 [==============================] - 20s 210ms/step - loss: 0.0060 - accuracy: 0.9967 - val_loss: 1.5570 - val_accuracy: 0.7960\n",
            "Epoch 85/100\n",
            "94/94 [==============================] - 19s 208ms/step - loss: 0.0097 - accuracy: 0.9933 - val_loss: 1.4299 - val_accuracy: 0.8100\n",
            "Epoch 86/100\n",
            "94/94 [==============================] - 20s 210ms/step - loss: 0.0085 - accuracy: 0.9943 - val_loss: 1.4137 - val_accuracy: 0.8080\n",
            "Epoch 87/100\n",
            "94/94 [==============================] - 19s 207ms/step - loss: 0.0056 - accuracy: 0.9970 - val_loss: 1.3868 - val_accuracy: 0.8040\n",
            "Epoch 88/100\n",
            "94/94 [==============================] - 19s 207ms/step - loss: 0.0035 - accuracy: 0.9987 - val_loss: 1.4807 - val_accuracy: 0.8040\n",
            "Epoch 89/100\n",
            "94/94 [==============================] - 19s 207ms/step - loss: 0.0064 - accuracy: 0.9960 - val_loss: 1.4025 - val_accuracy: 0.7980\n",
            "Epoch 90/100\n",
            "94/94 [==============================] - 19s 207ms/step - loss: 0.0073 - accuracy: 0.9967 - val_loss: 1.3907 - val_accuracy: 0.7940\n",
            "Epoch 91/100\n",
            "94/94 [==============================] - 19s 207ms/step - loss: 0.0043 - accuracy: 0.9973 - val_loss: 1.4031 - val_accuracy: 0.8060\n",
            "Epoch 92/100\n",
            "94/94 [==============================] - 19s 207ms/step - loss: 0.0078 - accuracy: 0.9970 - val_loss: 1.4582 - val_accuracy: 0.7980\n",
            "Epoch 93/100\n",
            "94/94 [==============================] - 19s 207ms/step - loss: 0.0047 - accuracy: 0.9963 - val_loss: 1.5485 - val_accuracy: 0.7920\n",
            "Epoch 94/100\n",
            "94/94 [==============================] - 19s 207ms/step - loss: 0.0033 - accuracy: 0.9977 - val_loss: 1.6669 - val_accuracy: 0.7880\n",
            "Epoch 95/100\n",
            "94/94 [==============================] - 19s 207ms/step - loss: 0.0030 - accuracy: 0.9970 - val_loss: 1.6177 - val_accuracy: 0.8020\n",
            "Epoch 96/100\n",
            "94/94 [==============================] - 19s 207ms/step - loss: 0.0046 - accuracy: 0.9970 - val_loss: 1.4768 - val_accuracy: 0.8040\n",
            "Epoch 97/100\n",
            "94/94 [==============================] - 19s 207ms/step - loss: 0.0033 - accuracy: 0.9973 - val_loss: 1.6947 - val_accuracy: 0.8020\n",
            "Epoch 98/100\n",
            "94/94 [==============================] - 19s 207ms/step - loss: 0.0062 - accuracy: 0.9977 - val_loss: 1.5221 - val_accuracy: 0.8000\n",
            "Epoch 99/100\n",
            "94/94 [==============================] - 19s 208ms/step - loss: 0.0045 - accuracy: 0.9987 - val_loss: 1.5107 - val_accuracy: 0.8060\n",
            "Epoch 100/100\n",
            "94/94 [==============================] - 19s 207ms/step - loss: 0.0029 - accuracy: 0.9973 - val_loss: 1.6697 - val_accuracy: 0.8020\n"
          ]
        }
      ],
      "source": [
        "from keras.callbacks import ModelCheckpoint, EarlyStopping\n",
        "'''\n",
        "checkpoint = ModelCheckpoint(\"vgg16_1.h5\", monitor='val_acc', \n",
        "                             verbose=1, save_best_only=True, save_weights_only=False, mode='auto', period=1)\n",
        "\n",
        "early = EarlyStopping(monitor='val_acc', \n",
        "                      min_delta=0, patience=20, verbose=1, mode='auto')\n",
        "'''\n",
        "hist = model.fit(X_train,y_train ,validation_data=(X_test,y_test), epochs=100, batch_size =32, class_weight= class_weight)"
      ],
      "id": "46c11c38"
    },
    {
      "cell_type": "code",
      "source": [
        "model.save('path/vgg19100epochs.h5');"
      ],
      "metadata": {
        "id": "pem-gloe-tlQ"
      },
      "id": "pem-gloe-tlQ",
      "execution_count": null,
      "outputs": []
    },
    {
      "cell_type": "code",
      "execution_count": null,
      "metadata": {
        "colab": {
          "base_uri": "https://localhost:8080/",
          "height": 295
        },
        "id": "8cde9d64",
        "outputId": "8226eecf-4abc-4e54-8a2d-38556d209489"
      },
      "outputs": [
        {
          "output_type": "display_data",
          "data": {
            "text/plain": [
              "<Figure size 432x288 with 1 Axes>"
            ],
            "image/png": "[encoded data removed]"
          },
          "metadata": {
            "needs_background": "light"
          }
        }
      ],
      "source": [
        "import matplotlib.pyplot as plt\n",
        "plt.plot(hist.history[\"accuracy\"])\n",
        "plt.plot(hist.history[\"val_accuracy\"])\n",
        "plt.plot(hist.history[\"loss\"])\n",
        "plt.plot(hist.history[\"val_loss\"])\n",
        "plt.title(\"model accuracy - VGG19\")\n",
        "plt.ylabel(\"Accuracy\")\n",
        "plt.xlabel(\"Epoch\")\n",
        "plt.legend([\"Accuracy\",\"Validation Accuracy\",\"loss\",\"Validation Loss\"])\n",
        "plt.show()"
      ],
      "id": "8cde9d64"
    },
    {
      "cell_type": "code",
      "execution_count": null,
      "metadata": {
        "colab": {
          "base_uri": "https://localhost:8080/"
        },
        "id": "fZrjv57nqAhY",
        "outputId": "b46e3aed-96be-4ab5-e4b0-937d5a92effd"
      },
      "outputs": [
        {
          "output_type": "stream",
          "name": "stdout",
          "text": [
            "Looking in indexes: https://pypi.org/simple, https://us-python.pkg.dev/colab-wheels/public/simple/\n",
            "Requirement already satisfied: scikit-learn in /usr/local/lib/python3.8/dist-packages (1.0.2)\n",
            "Requirement already satisfied: scipy>=1.1.0 in /usr/local/lib/python3.8/dist-packages (from scikit-learn) (1.7.3)\n",
            "Requirement already satisfied: numpy>=1.14.6 in /usr/local/lib/python3.8/dist-packages (from scikit-learn) (1.21.6)\n",
            "Requirement already satisfied: joblib>=0.11 in /usr/local/lib/python3.8/dist-packages (from scikit-learn) (1.2.0)\n",
            "Requirement already satisfied: threadpoolctl>=2.0.0 in /usr/local/lib/python3.8/dist-packages (from scikit-learn) (3.1.0)\n"
          ]
        }
      ],
      "source": [
        "!pip install scikit-learn"
      ],
      "id": "fZrjv57nqAhY"
    },
    {
      "cell_type": "code",
      "execution_count": null,
      "metadata": {
        "id": "vQqxDRFIU3Qo",
        "colab": {
          "base_uri": "https://localhost:8080/"
        },
        "outputId": "d796f3ec-7066-43c3-9635-0be472c478b8"
      },
      "outputs": [
        {
          "output_type": "stream",
          "name": "stdout",
          "text": [
            "16/16 [==============================] - 2s 137ms/step\n"
          ]
        }
      ],
      "source": [
        "import sklearn\n",
        "from sklearn.metrics import confusion_matrix , classification_report\n",
        "import numpy as np\n",
        "import pandas as pd\n",
        "from sklearn.metrics import precision_recall_fscore_support\n",
        "\n",
        "pred = model.predict(X_test)"
      ],
      "id": "vQqxDRFIU3Qo"
    },
    {
      "cell_type": "code",
      "source": [
        "#pred "
      ],
      "metadata": {
        "id": "ZnDVw-Xprnec"
      },
      "id": "ZnDVw-Xprnec",
      "execution_count": null,
      "outputs": []
    },
    {
      "cell_type": "code",
      "source": [
        "pred = np.argmax(pred, axis=1)"
      ],
      "metadata": {
        "id": "panmJGH9jwud"
      },
      "id": "panmJGH9jwud",
      "execution_count": null,
      "outputs": []
    },
    {
      "cell_type": "code",
      "source": [
        "y_test"
      ],
      "metadata": {
        "id": "FruUcpelsL56",
        "colab": {
          "base_uri": "https://localhost:8080/"
        },
        "outputId": "3678e02c-915d-4028-ead5-d19f2e1bd1d0"
      },
      "id": "FruUcpelsL56",
      "execution_count": null,
      "outputs": [
        {
          "output_type": "execute_result",
          "data": {
            "text/plain": [
              "array([1, 0, 0, 0, 0, 0, 0, 0, 0, 1, 1, 0, 0, 0, 0, 0, 0, 0, 0, 0, 0, 0,\n",
              "       0, 0, 0, 1, 1, 1, 0, 0, 0, 0, 0, 0, 0, 0, 0, 1, 0, 0, 1, 0, 0, 0,\n",
              "       0, 1, 0, 0, 0, 0, 0, 0, 0, 0, 0, 0, 0, 1, 0, 0, 1, 0, 0, 1, 1, 0,\n",
              "       0, 0, 1, 0, 0, 0, 1, 1, 1, 0, 0, 0, 0, 1, 0, 1, 1, 0, 0, 0, 0, 0,\n",
              "       0, 0, 0, 0, 0, 0, 0, 0, 0, 0, 0, 0, 0, 0, 0, 0, 0, 0, 0, 0, 0, 1,\n",
              "       0, 0, 0, 0, 1, 0, 0, 0, 0, 0, 0, 0, 0, 0, 1, 0, 0, 0, 0, 0, 1, 0,\n",
              "       1, 0, 0, 0, 0, 1, 0, 1, 0, 0, 1, 0, 0, 0, 0, 0, 0, 0, 0, 0, 1, 0,\n",
              "       0, 0, 1, 0, 0, 0, 0, 0, 0, 1, 0, 0, 0, 0, 0, 0, 0, 0, 0, 0, 0, 0,\n",
              "       0, 0, 0, 0, 0, 0, 0, 1, 0, 0, 1, 1, 0, 1, 0, 0, 0, 0, 0, 0, 0, 0,\n",
              "       0, 0, 1, 1, 0, 0, 0, 0, 0, 0, 1, 0, 0, 0, 0, 0, 0, 0, 0, 0, 0, 0,\n",
              "       1, 1, 0, 1, 0, 1, 0, 0, 0, 1, 1, 0, 1, 0, 1, 0, 1, 1, 0, 0, 0, 0,\n",
              "       0, 0, 0, 0, 0, 0, 0, 0, 0, 0, 0, 0, 0, 1, 0, 0, 0, 1, 0, 1, 1, 0,\n",
              "       0, 0, 0, 0, 0, 1, 0, 1, 0, 0, 0, 0, 1, 0, 0, 0, 0, 0, 0, 0, 0, 1,\n",
              "       0, 0, 0, 0, 0, 0, 0, 1, 0, 1, 0, 0, 1, 0, 1, 1, 0, 0, 0, 0, 0, 0,\n",
              "       0, 0, 0, 0, 1, 0, 1, 0, 0, 0, 0, 0, 0, 0, 0, 0, 0, 0, 1, 1, 1, 1,\n",
              "       0, 0, 1, 0, 1, 1, 0, 1, 0, 0, 0, 0, 0, 0, 0, 0, 1, 0, 0, 1, 0, 0,\n",
              "       0, 0, 0, 0, 1, 0, 0, 0, 1, 1, 0, 0, 0, 0, 0, 0, 1, 0, 1, 0, 0, 1,\n",
              "       0, 0, 0, 0, 0, 0, 0, 0, 0, 1, 0, 0, 0, 0, 1, 0, 0, 1, 0, 0, 0, 0,\n",
              "       0, 0, 0, 1, 0, 0, 1, 0, 1, 0, 0, 1, 0, 1, 0, 0, 0, 0, 1, 0, 0, 1,\n",
              "       0, 0, 0, 0, 0, 0, 0, 0, 0, 1, 1, 1, 0, 0, 0, 0, 1, 0, 1, 1, 0, 1,\n",
              "       1, 0, 1, 0, 1, 0, 0, 0, 0, 0, 0, 0, 0, 1, 0, 0, 0, 1, 0, 0, 0, 1,\n",
              "       0, 0, 0, 0, 0, 0, 0, 0, 0, 0, 0, 0, 0, 1, 0, 0, 0, 0, 0, 0, 0, 0,\n",
              "       1, 0, 0, 0, 0, 1, 0, 0, 0, 0, 0, 0, 0, 0, 0, 0])"
            ]
          },
          "metadata": {},
          "execution_count": 52
        }
      ]
    },
    {
      "cell_type": "code",
      "source": [
        "#true = np.argmax(y_test,axis=1)"
      ],
      "metadata": {
        "id": "PatKOrKbjLgv"
      },
      "id": "PatKOrKbjLgv",
      "execution_count": null,
      "outputs": []
    },
    {
      "cell_type": "code",
      "source": [
        "pip install mlxtend"
      ],
      "metadata": {
        "id": "EgxcnoObsU8G",
        "colab": {
          "base_uri": "https://localhost:8080/"
        },
        "outputId": "f2400384-0b9f-426a-bb82-3f13fc41e71f"
      },
      "id": "EgxcnoObsU8G",
      "execution_count": null,
      "outputs": [
        {
          "output_type": "stream",
          "name": "stdout",
          "text": [
            "Looking in indexes: https://pypi.org/simple, https://us-python.pkg.dev/colab-wheels/public/simple/\n",
            "Requirement already satisfied: mlxtend in /usr/local/lib/python3.8/dist-packages (0.14.0)\n",
            "Requirement already satisfied: pandas>=0.17.1 in /usr/local/lib/python3.8/dist-packages (from mlxtend) (1.3.5)\n",
            "Requirement already satisfied: setuptools in /usr/local/lib/python3.8/dist-packages (from mlxtend) (57.4.0)\n",
            "Requirement already satisfied: scikit-learn>=0.18 in /usr/local/lib/python3.8/dist-packages (from mlxtend) (1.0.2)\n",
            "Requirement already satisfied: scipy>=0.17 in /usr/local/lib/python3.8/dist-packages (from mlxtend) (1.7.3)\n",
            "Requirement already satisfied: matplotlib>=1.5.1 in /usr/local/lib/python3.8/dist-packages (from mlxtend) (3.2.2)\n",
            "Requirement already satisfied: numpy>=1.10.4 in /usr/local/lib/python3.8/dist-packages (from mlxtend) (1.21.6)\n",
            "Requirement already satisfied: python-dateutil>=2.1 in /usr/local/lib/python3.8/dist-packages (from matplotlib>=1.5.1->mlxtend) (2.8.2)\n",
            "Requirement already satisfied: pyparsing!=2.0.4,!=2.1.2,!=2.1.6,>=2.0.1 in /usr/local/lib/python3.8/dist-packages (from matplotlib>=1.5.1->mlxtend) (3.0.9)\n",
            "Requirement already satisfied: cycler>=0.10 in /usr/local/lib/python3.8/dist-packages (from matplotlib>=1.5.1->mlxtend) (0.11.0)\n",
            "Requirement already satisfied: kiwisolver>=1.0.1 in /usr/local/lib/python3.8/dist-packages (from matplotlib>=1.5.1->mlxtend) (1.4.4)\n",
            "Requirement already satisfied: pytz>=2017.3 in /usr/local/lib/python3.8/dist-packages (from pandas>=0.17.1->mlxtend) (2022.7.1)\n",
            "Requirement already satisfied: threadpoolctl>=2.0.0 in /usr/local/lib/python3.8/dist-packages (from scikit-learn>=0.18->mlxtend) (3.1.0)\n",
            "Requirement already satisfied: joblib>=0.11 in /usr/local/lib/python3.8/dist-packages (from scikit-learn>=0.18->mlxtend) (1.2.0)\n",
            "Requirement already satisfied: six>=1.5 in /usr/local/lib/python3.8/dist-packages (from python-dateutil>=2.1->matplotlib>=1.5.1->mlxtend) (1.15.0)\n"
          ]
        }
      ]
    },
    {
      "cell_type": "code",
      "source": [
        "import matplotlib.pyplot as plt"
      ],
      "metadata": {
        "id": "jFj9eMQ-s-iu"
      },
      "id": "jFj9eMQ-s-iu",
      "execution_count": null,
      "outputs": []
    },
    {
      "cell_type": "code",
      "source": [
        "CM = confusion_matrix(y_test,pred)\n",
        "from mlxtend.plotting import plot_confusion_matrix\n",
        "fig, ax = plot_confusion_matrix(conf_mat=CM, figsize=(5,5))\n",
        "plt.show()"
      ],
      "metadata": {
        "colab": {
          "base_uri": "https://localhost:8080/",
          "height": 334
        },
        "id": "wnaSN8Plj29h",
        "outputId": "83ae9975-acdd-42ab-a0e2-33e660350a7c"
      },
      "id": "wnaSN8Plj29h",
      "execution_count": null,
      "outputs": [
        {
          "output_type": "display_data",
          "data": {
            "text/plain": [
              "<Figure size 360x360 with 1 Axes>"
            ],
            "image/png": "[encoded data removed]"
          },
          "metadata": {
            "needs_background": "light"
          }
        }
      ]
    },
    {
      "cell_type": "code",
      "source": [
        "y_test.shape"
      ],
      "metadata": {
        "colab": {
          "base_uri": "https://localhost:8080/"
        },
        "id": "rrlw1Eo4tufE",
        "outputId": "694ff6d4-c944-4d3c-ba28-f7e745d7ee46"
      },
      "id": "rrlw1Eo4tufE",
      "execution_count": null,
      "outputs": [
        {
          "output_type": "execute_result",
          "data": {
            "text/plain": [
              "(500,)"
            ]
          },
          "metadata": {},
          "execution_count": 58
        }
      ]
    },
    {
      "cell_type": "code",
      "source": [
        "from sklearn.metrics import accuracy_score\n",
        "pred1 = model.predict(X_test)\n",
        "accuracy = accuracy_score(y_test, np.round(pred1))*100"
      ],
      "metadata": {
        "id": "2QweCyVKtRpJ"
      },
      "id": "2QweCyVKtRpJ",
      "execution_count": null,
      "outputs": []
    },
    {
      "cell_type": "code",
      "source": [
        "pred1.shape"
      ],
      "metadata": {
        "colab": {
          "base_uri": "https://localhost:8080/"
        },
        "id": "aid_F_OIt-6y",
        "outputId": "1d3312b3-a7d8-4d99-f4b8-a8c188ee3aea"
      },
      "id": "aid_F_OIt-6y",
      "execution_count": null,
      "outputs": [
        {
          "output_type": "execute_result",
          "data": {
            "text/plain": [
              "(500, 2)"
            ]
          },
          "metadata": {},
          "execution_count": 83
        }
      ]
    },
    {
      "cell_type": "code",
      "source": [
        "print(CM)"
      ],
      "metadata": {
        "colab": {
          "base_uri": "https://localhost:8080/"
        },
        "id": "KeqaiHIbuEpB",
        "outputId": "9186b70e-be47-4a2c-d618-3e2483bb00b0"
      },
      "id": "KeqaiHIbuEpB",
      "execution_count": null,
      "outputs": [
        {
          "output_type": "stream",
          "name": "stdout",
          "text": [
            "[[361  34]\n",
            " [ 63  42]]\n"
          ]
        }
      ]
    },
    {
      "cell_type": "code",
      "source": [
        "tn,fp,fn,tp = CM.ravel()"
      ],
      "metadata": {
        "id": "TeYRN8NOuR7Y"
      },
      "id": "TeYRN8NOuR7Y",
      "execution_count": null,
      "outputs": []
    },
    {
      "cell_type": "code",
      "source": [
        "prec = tp/(tp+fp)*100"
      ],
      "metadata": {
        "id": "ujQ4WcJguHrR"
      },
      "id": "ujQ4WcJguHrR",
      "execution_count": null,
      "outputs": []
    },
    {
      "cell_type": "code",
      "source": [
        "prec"
      ],
      "metadata": {
        "colab": {
          "base_uri": "https://localhost:8080/"
        },
        "id": "fo0FohQNua0r",
        "outputId": "2394928d-591d-4d04-85bc-fa9112dca03d"
      },
      "id": "fo0FohQNua0r",
      "execution_count": null,
      "outputs": [
        {
          "output_type": "execute_result",
          "data": {
            "text/plain": [
              "55.26315789473685"
            ]
          },
          "metadata": {},
          "execution_count": 58
        }
      ]
    },
    {
      "cell_type": "code",
      "source": [
        "recall = tp/(tp+fn)*100\n",
        "f1 = 2*prec*recall/(prec+recall)"
      ],
      "metadata": {
        "id": "Q4OIgm62ucww"
      },
      "id": "Q4OIgm62ucww",
      "execution_count": null,
      "outputs": []
    },
    {
      "cell_type": "code",
      "source": [
        "recall"
      ],
      "metadata": {
        "colab": {
          "base_uri": "https://localhost:8080/"
        },
        "id": "fVytRPlKma3-",
        "outputId": "f15a88a6-4f4c-4844-d273-addf453e1ced"
      },
      "id": "fVytRPlKma3-",
      "execution_count": null,
      "outputs": [
        {
          "output_type": "execute_result",
          "data": {
            "text/plain": [
              "46.666666666666664"
            ]
          },
          "metadata": {},
          "execution_count": 59
        }
      ]
    },
    {
      "cell_type": "code",
      "source": [
        "f1"
      ],
      "metadata": {
        "colab": {
          "base_uri": "https://localhost:8080/"
        },
        "id": "YNS4nxC4uqOq",
        "outputId": "f9a2e11c-a904-4317-b999-37d9fb5c88f3"
      },
      "id": "YNS4nxC4uqOq",
      "execution_count": null,
      "outputs": [
        {
          "output_type": "execute_result",
          "data": {
            "text/plain": [
              "48.0392156862745"
            ]
          },
          "metadata": {},
          "execution_count": 41
        }
      ]
    }
  ],
  "metadata": {
    "accelerator": "GPU",
    "colab": {
      "provenance": [],
      "include_colab_link": true
    },
    "kernelspec": {
      "display_name": "Python 3",
      "language": "python",
      "name": "python3"
    },
    "language_info": {
      "codemirror_mode": {
        "name": "ipython",
        "version": 3
      },
      "file_extension": ".py",
      "mimetype": "text/x-python",
      "name": "python",
      "nbconvert_exporter": "python",
      "pygments_lexer": "ipython3",
      "version": "3.8.8"
    },
    "gpuClass": "standard"
  },
  "nbformat": 4,
  "nbformat_minor": 5
}